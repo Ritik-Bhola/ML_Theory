{
 "cells": [
  {
   "cell_type": "markdown",
   "metadata": {},
   "source": [
    "# NumPy \n",
    "\n",
    "NumPy (or Numpy) is a Linear Algebra Library for Python, the reason it is so important for Data Science with Python is that almost all of the libraries in the PyData Ecosystem rely on NumPy as one of their main building blocks.\n",
    "\n",
    "Numpy is also incredibly fast, as it has bindings to C libraries. For more info on why you would want to use Arrays instead of lists, check out this great [StackOverflow post](http://stackoverflow.com/questions/993984/why-numpy-instead-of-python-lists).\n",
    "\n",
    "We will only learn the basics of NumPy, to get started we need to install it!"
   ]
  },
  {
   "cell_type": "markdown",
   "metadata": {},
   "source": [
    "## Using NumPy\n",
    "\n",
    "Once you've installed NumPy you can import it as a library:"
   ]
  },
  {
   "cell_type": "code",
   "execution_count": 1,
   "metadata": {},
   "outputs": [],
   "source": [
    "import numpy as np"
   ]
  },
  {
   "cell_type": "markdown",
   "metadata": {},
   "source": [
    "Numpy has many built-in functions and capabilities. We won't cover them all but instead we will focus on some of the most important aspects of Numpy: vectors,arrays,matrices, and number generation. Let's start by discussing arrays.\n",
    "\n",
    "# Numpy Arrays\n",
    "\n",
    "NumPy arrays are the main way we will use Numpy throughout the course. Numpy arrays essentially come in two flavors: vectors and matrices. Vectors are strictly 1-d arrays and matrices are 2-d (but you should note a matrix can still have only one row or one column).\n",
    "\n",
    "Let's begin our introduction by exploring how to create NumPy arrays.\n",
    "\n",
    "## Creating NumPy Arrays\n",
    "\n",
    "### From a Python List\n",
    "\n",
    "We can create an array by directly converting a list or list of lists:"
   ]
  },
  {
   "cell_type": "code",
   "execution_count": 2,
   "metadata": {},
   "outputs": [
    {
     "data": {
      "text/plain": [
       "[1, 2, 3]"
      ]
     },
     "execution_count": 2,
     "metadata": {},
     "output_type": "execute_result"
    }
   ],
   "source": [
    "my_list=[1,2,3]\n",
    "my_list"
   ]
  },
  {
   "cell_type": "code",
   "execution_count": 5,
   "metadata": {},
   "outputs": [
    {
     "data": {
      "text/plain": [
       "dtype('int32')"
      ]
     },
     "execution_count": 5,
     "metadata": {},
     "output_type": "execute_result"
    }
   ],
   "source": [
    "x=np.array(my_list)\n",
    "x\n",
    "type(x)\n",
    "x.dtype\n",
    "#In case of array objects please use dtype method, it discovers all the info about\n",
    "# the array object"
   ]
  },
  {
   "cell_type": "code",
   "execution_count": 8,
   "metadata": {},
   "outputs": [
    {
     "name": "stdout",
     "output_type": "stream",
     "text": [
      "<U5\n"
     ]
    },
    {
     "data": {
      "text/plain": [
       "dtype('<U7')"
      ]
     },
     "execution_count": 8,
     "metadata": {},
     "output_type": "execute_result"
    }
   ],
   "source": [
    "r=np.array([\"Hi\",\"Hello\",\"Good\"])\n",
    "print(r.dtype)\n",
    "\n",
    "t=np.array([\"Hi\",123,123.123])\n",
    "t.dtype"
   ]
  },
  {
   "cell_type": "code",
   "execution_count": 15,
   "metadata": {},
   "outputs": [
    {
     "data": {
      "text/plain": [
       "[[5, 55, 555], [6, 66, 666], [7, 77, 777], [8, 88, 888]]"
      ]
     },
     "execution_count": 15,
     "metadata": {},
     "output_type": "execute_result"
    }
   ],
   "source": [
    "my_matrix = [[5,55,555],[6,66,666],[7,77,777],[8,88,888]]\n",
    "my_matrix"
   ]
  },
  {
   "cell_type": "code",
   "execution_count": 16,
   "metadata": {},
   "outputs": [
    {
     "data": {
      "text/plain": [
       "array([[  5,  55, 555],\n",
       "       [  6,  66, 666],\n",
       "       [  7,  77, 777],\n",
       "       [  8,  88, 888]])"
      ]
     },
     "execution_count": 16,
     "metadata": {},
     "output_type": "execute_result"
    }
   ],
   "source": [
    "np.array(my_matrix)\n",
    "#Can check the code while removing any element inside te My_matrix."
   ]
  },
  {
   "cell_type": "markdown",
   "metadata": {},
   "source": [
    "## Built-in Methods\n",
    "\n",
    "There are lots of built-in ways to generate Arrays"
   ]
  },
  {
   "cell_type": "markdown",
   "metadata": {},
   "source": [
    "### arange\n",
    "\n",
    "Return evenly spaced values within a given interval."
   ]
  },
  {
   "cell_type": "code",
   "execution_count": 20,
   "metadata": {},
   "outputs": [
    {
     "data": {
      "text/plain": [
       "array([ 1,  2,  3,  4,  5,  6,  7,  8,  9, 10, 11, 12, 13, 14, 15, 16, 17,\n",
       "       18, 19, 20, 21, 22, 23, 24, 25, 26, 27, 28, 29, 30, 31, 32, 33, 34,\n",
       "       35, 36, 37, 38, 39, 40, 41, 42, 43, 44, 45, 46, 47, 48, 49, 50])"
      ]
     },
     "execution_count": 20,
     "metadata": {},
     "output_type": "execute_result"
    }
   ],
   "source": [
    "import numpy as np\n",
    "\n",
    "x=np.arange(1,51)\n",
    "x\n",
    "\n",
    "\n"
   ]
  },
  {
   "cell_type": "code",
   "execution_count": 22,
   "metadata": {},
   "outputs": [
    {
     "data": {
      "text/plain": [
       "array([5500, 5501, 5502, 5503, 5504, 5505, 5506, 5507, 5508, 5509, 5510,\n",
       "       5511, 5512, 5513, 5514, 5515, 5516, 5517, 5518, 5519, 5520, 5521,\n",
       "       5522, 5523, 5524, 5525, 5526, 5527, 5528, 5529, 5530, 5531, 5532,\n",
       "       5533, 5534, 5535, 5536, 5537, 5538, 5539, 5540, 5541, 5542, 5543,\n",
       "       5544, 5545, 5546, 5547, 5548, 5549, 5550])"
      ]
     },
     "execution_count": 22,
     "metadata": {},
     "output_type": "execute_result"
    }
   ],
   "source": [
    "x=np.arange(5500,5551)\n",
    "x"
   ]
  },
  {
   "cell_type": "code",
   "execution_count": 31,
   "metadata": {},
   "outputs": [
    {
     "data": {
      "text/plain": [
       "array([100, 102, 104, 106, 108, 110, 112, 114, 116, 118, 120, 122, 124,\n",
       "       126, 128, 130, 132, 134, 136, 138, 140, 142, 144, 146, 148, 150])"
      ]
     },
     "execution_count": 31,
     "metadata": {},
     "output_type": "execute_result"
    }
   ],
   "source": [
    "#Stepping\n",
    "np.arange(100,151,2)"
   ]
  },
  {
   "cell_type": "markdown",
   "metadata": {},
   "source": [
    "### zeros and ones\n",
    "\n",
    "Generate arrays of zeros or ones"
   ]
  },
  {
   "cell_type": "code",
   "execution_count": 37,
   "metadata": {},
   "outputs": [
    {
     "data": {
      "text/plain": [
       "array([[0, 0, 0, 0, 0, 0, 0, 0, 0],\n",
       "       [0, 0, 0, 0, 0, 0, 0, 0, 0],\n",
       "       [0, 0, 0, 0, 0, 0, 0, 0, 0],\n",
       "       [0, 0, 0, 0, 0, 0, 0, 0, 0],\n",
       "       [0, 0, 0, 0, 0, 0, 0, 0, 0],\n",
       "       [0, 0, 0, 0, 0, 0, 0, 0, 0],\n",
       "       [0, 0, 0, 0, 0, 0, 0, 0, 0],\n",
       "       [0, 0, 0, 0, 0, 0, 0, 0, 0]])"
      ]
     },
     "execution_count": 37,
     "metadata": {},
     "output_type": "execute_result"
    }
   ],
   "source": [
    "x=np.zeros((8,9),dtype=\"int\")\n",
    "x"
   ]
  },
  {
   "cell_type": "code",
   "execution_count": null,
   "metadata": {},
   "outputs": [],
   "source": [
    "np.zeros((5,5))"
   ]
  },
  {
   "cell_type": "code",
   "execution_count": 38,
   "metadata": {},
   "outputs": [
    {
     "data": {
      "text/plain": [
       "array([[1, 1, 1, 1, 1, 1, 1, 1, 1],\n",
       "       [1, 1, 1, 1, 1, 1, 1, 1, 1],\n",
       "       [1, 1, 1, 1, 1, 1, 1, 1, 1],\n",
       "       [1, 1, 1, 1, 1, 1, 1, 1, 1],\n",
       "       [1, 1, 1, 1, 1, 1, 1, 1, 1],\n",
       "       [1, 1, 1, 1, 1, 1, 1, 1, 1],\n",
       "       [1, 1, 1, 1, 1, 1, 1, 1, 1],\n",
       "       [1, 1, 1, 1, 1, 1, 1, 1, 1]])"
      ]
     },
     "execution_count": 38,
     "metadata": {},
     "output_type": "execute_result"
    }
   ],
   "source": [
    "np.ones((8,9),dtype=int)"
   ]
  },
  {
   "cell_type": "code",
   "execution_count": null,
   "metadata": {},
   "outputs": [],
   "source": [
    "x1=np.ones((5,5))\n",
    "x1"
   ]
  },
  {
   "cell_type": "markdown",
   "metadata": {},
   "source": [
    "## eye\n",
    "\n",
    "Creates an identity matrix"
   ]
  },
  {
   "cell_type": "code",
   "execution_count": null,
   "metadata": {},
   "outputs": [],
   "source": [
    "np.eye(10,10)"
   ]
  },
  {
   "cell_type": "code",
   "execution_count": 39,
   "metadata": {},
   "outputs": [
    {
     "data": {
      "text/plain": [
       "array([[555,   0,   0,   0,   0,   0,   0,   0,   0,   0,   0,   0],\n",
       "       [  0, 555,   0,   0,   0,   0,   0,   0,   0,   0,   0,   0],\n",
       "       [  0,   0, 555,   0,   0,   0,   0,   0,   0,   0,   0,   0],\n",
       "       [  0,   0,   0, 555,   0,   0,   0,   0,   0,   0,   0,   0],\n",
       "       [  0,   0,   0,   0, 555,   0,   0,   0,   0,   0,   0,   0],\n",
       "       [  0,   0,   0,   0,   0, 555,   0,   0,   0,   0,   0,   0],\n",
       "       [  0,   0,   0,   0,   0,   0, 555,   0,   0,   0,   0,   0],\n",
       "       [  0,   0,   0,   0,   0,   0,   0, 555,   0,   0,   0,   0],\n",
       "       [  0,   0,   0,   0,   0,   0,   0,   0, 555,   0,   0,   0],\n",
       "       [  0,   0,   0,   0,   0,   0,   0,   0,   0, 555,   0,   0],\n",
       "       [  0,   0,   0,   0,   0,   0,   0,   0,   0,   0, 555,   0],\n",
       "       [  0,   0,   0,   0,   0,   0,   0,   0,   0,   0,   0, 555]])"
      ]
     },
     "execution_count": 39,
     "metadata": {},
     "output_type": "execute_result"
    }
   ],
   "source": [
    "np.eye(12, 12,dtype=int)*555"
   ]
  },
  {
   "cell_type": "markdown",
   "metadata": {},
   "source": [
    "## Random \n",
    "\n",
    "Numpy also has lots of ways to create random number arrays:\n",
    "\n",
    "### rand\n",
    "Create an array of the given shape and populate it with\n",
    "random samples from a uniform distribution\n",
    "over ``[0, 1)``."
   ]
  },
  {
   "cell_type": "code",
   "execution_count": 51,
   "metadata": {},
   "outputs": [
    {
     "data": {
      "text/plain": [
       "array([[0.09394672, 0.18862315, 0.3235366 , 0.63139736, 0.62493113],\n",
       "       [0.40272654, 0.74853624, 0.4350735 , 0.62109482, 0.08554549],\n",
       "       [0.72929163, 0.36247455, 0.54147633, 0.06204167, 0.85681337],\n",
       "       [0.82513271, 0.61101899, 0.82940393, 0.30677547, 0.7622002 ],\n",
       "       [0.6236323 , 0.86108868, 0.05891671, 0.03679537, 0.23859758]])"
      ]
     },
     "execution_count": 51,
     "metadata": {},
     "output_type": "execute_result"
    }
   ],
   "source": [
    "np.random.rand(5,5)"
   ]
  },
  {
   "cell_type": "code",
   "execution_count": 49,
   "metadata": {},
   "outputs": [
    {
     "data": {
      "text/plain": [
       "array([[[0.59724082, 0.90382318, 0.96098639, 0.09492863, 0.99217687],\n",
       "        [0.64867482, 0.63006291, 0.51223678, 0.89028374, 0.34726438],\n",
       "        [0.71630333, 0.8528789 , 0.18078505, 0.80134708, 0.49206469],\n",
       "        [0.50177452, 0.45858461, 0.37324681, 0.75658012, 0.73978518],\n",
       "        [0.20366537, 0.63357741, 0.35556398, 0.51929757, 0.79211879],\n",
       "        [0.91199796, 0.45789084, 0.63361916, 0.24359391, 0.9788403 ]],\n",
       "\n",
       "       [[0.48190077, 0.66416897, 0.99084092, 0.7975562 , 0.87053639],\n",
       "        [0.59483846, 0.43002221, 0.04542544, 0.84064634, 0.89591277],\n",
       "        [0.41384035, 0.792972  , 0.79382972, 0.70786418, 0.76368884],\n",
       "        [0.87966425, 0.81253141, 0.21736883, 0.6397771 , 0.36059244],\n",
       "        [0.71507282, 0.76816592, 0.44019538, 0.79266361, 0.73050639],\n",
       "        [0.08157424, 0.51063769, 0.16334703, 0.46968216, 0.97592172]],\n",
       "\n",
       "       [[0.36402753, 0.05435693, 0.15357401, 0.90066188, 0.18686622],\n",
       "        [0.77107744, 0.48885707, 0.43527709, 0.15913252, 0.41821306],\n",
       "        [0.23861893, 0.57337112, 0.6346075 , 0.97124749, 0.89238159],\n",
       "        [0.0357875 , 0.1546695 , 0.11921022, 0.11544623, 0.64123045],\n",
       "        [0.72969272, 0.51504584, 0.92459543, 0.22976643, 0.00602014],\n",
       "        [0.6393619 , 0.30835029, 0.6903335 , 0.71734358, 0.94563371]],\n",
       "\n",
       "       [[0.21687711, 0.02575809, 0.05161721, 0.0326353 , 0.68454179],\n",
       "        [0.89826388, 0.92503213, 0.23685518, 0.75870298, 0.53618512],\n",
       "        [0.92932756, 0.8466126 , 0.15281229, 0.71439306, 0.40968186],\n",
       "        [0.71797225, 0.32336573, 0.96107053, 0.11016417, 0.1375136 ],\n",
       "        [0.52296391, 0.55006913, 0.19977441, 0.42178082, 0.78615927],\n",
       "        [0.36884081, 0.79671224, 0.03936641, 0.91661585, 0.267944  ]],\n",
       "\n",
       "       [[0.57010147, 0.99247139, 0.18070462, 0.3648921 , 0.59351528],\n",
       "        [0.44882446, 0.19814293, 0.77821844, 0.82804117, 0.55352583],\n",
       "        [0.12944589, 0.75072171, 0.62739346, 0.15029913, 0.23679514],\n",
       "        [0.47154595, 0.8139035 , 0.52122871, 0.68933242, 0.19244483],\n",
       "        [0.92636628, 0.0812931 , 0.25035233, 0.91627206, 0.51458177],\n",
       "        [0.85440853, 0.41514334, 0.82980804, 0.09111643, 0.09781482]],\n",
       "\n",
       "       [[0.05710675, 0.25439391, 0.0335194 , 0.42165206, 0.53843548],\n",
       "        [0.27042175, 0.54079672, 0.6216703 , 0.69864626, 0.52407795],\n",
       "        [0.92863618, 0.44832008, 0.51259404, 0.78722015, 0.32951705],\n",
       "        [0.34170419, 0.73445729, 0.32554858, 0.7056857 , 0.84373511],\n",
       "        [0.2538731 , 0.07807496, 0.40747487, 0.0838818 , 0.68311576],\n",
       "        [0.76771318, 0.09194688, 0.23256455, 0.75814445, 0.49491763]],\n",
       "\n",
       "       [[0.11454202, 0.32334765, 0.66989232, 0.82059718, 0.25298141],\n",
       "        [0.34896982, 0.82400411, 0.6646981 , 0.45154222, 0.96702268],\n",
       "        [0.45906256, 0.33899471, 0.1315564 , 0.91294629, 0.33401452],\n",
       "        [0.86434798, 0.0834438 , 0.80446782, 0.93635694, 0.02276389],\n",
       "        [0.29438576, 0.2804487 , 0.14943013, 0.14891829, 0.19222383],\n",
       "        [0.89879728, 0.24022569, 0.84368967, 0.23077402, 0.52924473]]])"
      ]
     },
     "execution_count": 49,
     "metadata": {},
     "output_type": "execute_result"
    }
   ],
   "source": [
    "np.random.rand(7,6,5)#(Number of individual matrixes,number of rows,number of columns)"
   ]
  },
  {
   "cell_type": "code",
   "execution_count": null,
   "metadata": {},
   "outputs": [],
   "source": [
    "#np.random.rand(5,5)\n",
    "import numpy as np"
   ]
  },
  {
   "cell_type": "markdown",
   "metadata": {},
   "source": [
    "### randint\n",
    "Return random integers from `low` (inclusive) to `high` (exclusive)."
   ]
  },
  {
   "cell_type": "code",
   "execution_count": 72,
   "metadata": {},
   "outputs": [
    {
     "data": {
      "text/plain": [
       "18"
      ]
     },
     "execution_count": 72,
     "metadata": {},
     "output_type": "execute_result"
    }
   ],
   "source": [
    "np.random.randint(10,20)"
   ]
  },
  {
   "cell_type": "code",
   "execution_count": 78,
   "metadata": {},
   "outputs": [
    {
     "data": {
      "text/plain": [
       "array([[765, 562, 725, 869, 896],\n",
       "       [756, 966, 898, 641, 782],\n",
       "       [759, 508, 780, 630, 645],\n",
       "       [586, 834, 605, 679, 828],\n",
       "       [928, 630, 745, 764, 707],\n",
       "       [900, 618, 877, 901, 735],\n",
       "       [621, 788, 826, 532, 609]])"
      ]
     },
     "execution_count": 78,
     "metadata": {},
     "output_type": "execute_result"
    }
   ],
   "source": [
    "np.random.randint(500,1000,size=(7,5))#Matrix\n",
    "#np.random.randint(500,1000,size=(12,5))#Array"
   ]
  },
  {
   "cell_type": "code",
   "execution_count": 74,
   "metadata": {},
   "outputs": [
    {
     "data": {
      "text/plain": [
       "794"
      ]
     },
     "execution_count": 74,
     "metadata": {},
     "output_type": "execute_result"
    }
   ],
   "source": [
    "np.random.randint(500,1000)"
   ]
  },
  {
   "cell_type": "code",
   "execution_count": 75,
   "metadata": {},
   "outputs": [
    {
     "data": {
      "text/plain": [
       "array([[73.09895786, 77.31048621, 89.07533829],\n",
       "       [99.88558161, 75.83968329, 60.23457373],\n",
       "       [81.77529783, 83.53577872, 55.12650497]])"
      ]
     },
     "execution_count": 75,
     "metadata": {},
     "output_type": "execute_result"
    }
   ],
   "source": [
    "np.random.uniform(50,100,size=(3,3))"
   ]
  },
  {
   "cell_type": "code",
   "execution_count": 80,
   "metadata": {},
   "outputs": [
    {
     "data": {
      "text/plain": [
       "array([[124,  65],\n",
       "       [ 62, 103],\n",
       "       [ 78, 102],\n",
       "       [ 55, 118],\n",
       "       [ 65,  93],\n",
       "       [127,  87],\n",
       "       [ 93, 138],\n",
       "       [124,  57],\n",
       "       [ 87,  74],\n",
       "       [ 70, 117]])"
      ]
     },
     "execution_count": 80,
     "metadata": {},
     "output_type": "execute_result"
    }
   ],
   "source": [
    "rr=np.random.randint(50,150,(10,2))#(row,column,number of elements)\n",
    "rr"
   ]
  },
  {
   "cell_type": "markdown",
   "metadata": {},
   "source": [
    "## Array Attributes and Methods\n",
    "\n",
    "Let's discuss some useful attributes and methods or an array:"
   ]
  },
  {
   "cell_type": "code",
   "execution_count": 79,
   "metadata": {},
   "outputs": [
    {
     "name": "stdout",
     "output_type": "stream",
     "text": [
      "[89 79 85 52 60 89 54 92 53 51 65 52 93 67 64 82 85 69 51 88 83 69 54 75\n",
      " 65] Ranarr - RandInt\n",
      "\n",
      "[ 0  1  2  3  4  5  6  7  8  9 10 11 12 13 14 15 16 17 18 19 20 21 22 23\n",
      " 24] Arr - Arange\n"
     ]
    }
   ],
   "source": [
    "arr = np.arange(25)\n",
    "ranarr = np.random.randint(50,100,25)   #(start, end, no. of elements)\n",
    "print(ranarr,\"Ranarr - RandInt\")\n",
    "print()\n",
    "print(arr,\"Arr - Arange\")"
   ]
  },
  {
   "cell_type": "code",
   "execution_count": null,
   "metadata": {},
   "outputs": [],
   "source": [
    "arr.shape\n",
    "ranarr.shape\n",
    "rr.shape"
   ]
  },
  {
   "cell_type": "markdown",
   "metadata": {},
   "source": [
    "## Reshape\n",
    "Returns an array containing the same data with a new shape."
   ]
  },
  {
   "cell_type": "code",
   "execution_count": 81,
   "metadata": {},
   "outputs": [
    {
     "name": "stdout",
     "output_type": "stream",
     "text": [
      "[[ 0  1  2  3  4  5  6  7  8  9]\n",
      " [10 11 12 13 14 15 16 17 18 19]\n",
      " [20 21 22 23 24 25 26 27 28 29]\n",
      " [30 31 32 33 34 35 36 37 38 39]\n",
      " [40 41 42 43 44 45 46 47 48 49]\n",
      " [50 51 52 53 54 55 56 57 58 59]\n",
      " [60 61 62 63 64 65 66 67 68 69]\n",
      " [70 71 72 73 74 75 76 77 78 79]\n",
      " [80 81 82 83 84 85 86 87 88 89]\n",
      " [90 91 92 93 94 95 96 97 98 99]] \n",
      "\n",
      "[[ 0  1  2  3  4]\n",
      " [ 5  6  7  8  9]\n",
      " [10 11 12 13 14]\n",
      " [15 16 17 18 19]\n",
      " [20 21 22 23 24]\n",
      " [25 26 27 28 29]\n",
      " [30 31 32 33 34]\n",
      " [35 36 37 38 39]\n",
      " [40 41 42 43 44]\n",
      " [45 46 47 48 49]\n",
      " [50 51 52 53 54]\n",
      " [55 56 57 58 59]\n",
      " [60 61 62 63 64]\n",
      " [65 66 67 68 69]\n",
      " [70 71 72 73 74]\n",
      " [75 76 77 78 79]\n",
      " [80 81 82 83 84]\n",
      " [85 86 87 88 89]\n",
      " [90 91 92 93 94]\n",
      " [95 96 97 98 99]] \n",
      "\n",
      "[[ 0  1  2  3]\n",
      " [ 4  5  6  7]\n",
      " [ 8  9 10 11]\n",
      " [12 13 14 15]\n",
      " [16 17 18 19]\n",
      " [20 21 22 23]\n",
      " [24 25 26 27]\n",
      " [28 29 30 31]\n",
      " [32 33 34 35]\n",
      " [36 37 38 39]\n",
      " [40 41 42 43]\n",
      " [44 45 46 47]\n",
      " [48 49 50 51]\n",
      " [52 53 54 55]\n",
      " [56 57 58 59]\n",
      " [60 61 62 63]\n",
      " [64 65 66 67]\n",
      " [68 69 70 71]\n",
      " [72 73 74 75]\n",
      " [76 77 78 79]\n",
      " [80 81 82 83]\n",
      " [84 85 86 87]\n",
      " [88 89 90 91]\n",
      " [92 93 94 95]\n",
      " [96 97 98 99]]\n"
     ]
    }
   ],
   "source": [
    "print(np.arange(100).reshape(10,10),\"\\n\")\n",
    "print(np.arange(100).reshape(20,5),\"\\n\")\n",
    "print(np.arange(100).reshape(25,4))"
   ]
  },
  {
   "cell_type": "markdown",
   "metadata": {},
   "source": [
    "### max,min,argmax,argmin\n",
    "\n",
    "These are useful methods for finding max or min values. Or to find their index locations using argmin or argmax"
   ]
  },
  {
   "cell_type": "code",
   "execution_count": null,
   "metadata": {},
   "outputs": [],
   "source": [
    "#Try to work with np.min,max\n",
    "ranarr = np.random.randint(50,100,25)   #(start, end, no. of elements)\n",
    "ranarr"
   ]
  },
  {
   "cell_type": "code",
   "execution_count": null,
   "metadata": {},
   "outputs": [],
   "source": [
    "print(ranarr)\n",
    "ranarr.max()#Prints the maximum Number\n"
   ]
  },
  {
   "cell_type": "code",
   "execution_count": null,
   "metadata": {},
   "outputs": [],
   "source": [
    "print(ranarr)\n",
    "ranarr.argmax()#It prints the index position of maximum number"
   ]
  },
  {
   "cell_type": "code",
   "execution_count": null,
   "metadata": {},
   "outputs": [],
   "source": [
    "print(ranarr)\n",
    "ranarr.min()#Prints the minimum Number"
   ]
  },
  {
   "cell_type": "code",
   "execution_count": null,
   "metadata": {},
   "outputs": [],
   "source": [
    "print(ranarr)\n",
    "ranarr.argmin()#It prints the index position of minimum number"
   ]
  },
  {
   "cell_type": "code",
   "execution_count": null,
   "metadata": {},
   "outputs": [],
   "source": [
    "x=arr.reshape(5,5)\n",
    "x"
   ]
  },
  {
   "cell_type": "markdown",
   "metadata": {},
   "source": [
    "## Shape\n",
    "\n",
    "Shape is an attribute that arrays have (not a method):"
   ]
  },
  {
   "cell_type": "code",
   "execution_count": null,
   "metadata": {},
   "outputs": [],
   "source": [
    "# Vector\n",
    "x.shape"
   ]
  },
  {
   "cell_type": "code",
   "execution_count": null,
   "metadata": {},
   "outputs": [],
   "source": [
    "arr = np.arange(30)\n",
    "arr = arr.reshape(6,5)\n",
    "arr"
   ]
  },
  {
   "cell_type": "code",
   "execution_count": null,
   "metadata": {},
   "outputs": [],
   "source": [
    "arr.shape"
   ]
  },
  {
   "cell_type": "markdown",
   "metadata": {},
   "source": [
    "### dtype\n",
    "\n",
    "You can also grab the data type of the object in the array:"
   ]
  },
  {
   "cell_type": "code",
   "execution_count": null,
   "metadata": {},
   "outputs": [],
   "source": [
    "x1=[\"Hello\"]\n",
    "x2=\"Good Morning\"\n",
    "x3=[123]\n",
    "x4=123\n",
    "x5={\"a\":[55,67,89]}\n",
    "x6={1,2,3}\n",
    "x7=np.array([1,2,3,4,5,6,7,8])\n",
    "x8=np.array([\"Hello\",\"Good Morning\"])"
   ]
  },
  {
   "cell_type": "code",
   "execution_count": null,
   "metadata": {},
   "outputs": [],
   "source": [
    "type(x7)\n",
    "x8.dtype"
   ]
  },
  {
   "cell_type": "code",
   "execution_count": null,
   "metadata": {},
   "outputs": [],
   "source": [
    "type(x5)\n",
    "type(arr)\n",
    "#Basic Difference between type() and .dtype.\n",
    "#type() function runs with any data type and it also works with numpy/array objects but with array objects it displays\n",
    "#half of the infomation like numpy.ndarray\n",
    "# After getting numpy.ndarray the user can extract much of the knowledge with .dtype\n",
    "# .dtype only works with numpy/array objects."
   ]
  },
  {
   "cell_type": "markdown",
   "metadata": {},
   "source": [
    "# Great Job!"
   ]
  }
 ],
 "metadata": {
  "kernelspec": {
   "display_name": "Python 3",
   "language": "python",
   "name": "python3"
  },
  "language_info": {
   "codemirror_mode": {
    "name": "ipython",
    "version": 3
   },
   "file_extension": ".py",
   "mimetype": "text/x-python",
   "name": "python",
   "nbconvert_exporter": "python",
   "pygments_lexer": "ipython3",
   "version": "3.7.1"
  }
 },
 "nbformat": 4,
 "nbformat_minor": 1
}
