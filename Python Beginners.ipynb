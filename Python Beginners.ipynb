{
 "cells": [
  {
   "cell_type": "markdown",
   "metadata": {},
   "source": [
    "# Data type"
   ]
  },
  {
   "cell_type": "markdown",
   "metadata": {},
   "source": [
    "Data Structures - \n",
    "1. Lists\n",
    "2. Dictionary\n",
    "3. Sets \n",
    "4. Tuples\n"
   ]
  },
  {
   "cell_type": "markdown",
   "metadata": {},
   "source": [
    "Lists [ ] - They are the Data Structures that holds any kind(numeric values, string/text values, float values, etc..) of data, and we can also store nested list values. Lists are mutable(changable), that means we can change the values, also we can remove the values.\n",
    "\n",
    "Dictionary {\"key1\":\"[Values1,value2,value3.....]\"} ----\n",
    "{\"key1\":\"Value1\",\"key2\":\"value2\",\"key3\":[\"Value1\",\"Value2\",......]\n",
    "- Dicitonary is also a kind of data structure , where we need to define keys and values seperately . Dictionary are also mutable, but we need to specify the key, if we want to change the value\n",
    "\n",
    "Sets {1,2,3,4,5,2,3,5,6 } - The property of the sets is they will only display the unique values. They are not mutable, that means we cannot change the values.\n",
    "\n",
    "Tuple ( ) - Tuples are very similar to lists, that means we can store any kind of value we want, Tuples also support nested tuples, But the major difference between tuple and lists is, Tuples are immutable(values cannot be changed)."
   ]
  },
  {
   "cell_type": "code",
   "execution_count": 1,
   "metadata": {},
   "outputs": [
    {
     "data": {
      "text/plain": [
       "(1, 2, 3, 4, 1, 2, 5, 6, 2, 3, 4, 5)"
      ]
     },
     "execution_count": 1,
     "metadata": {},
     "output_type": "execute_result"
    }
   ],
   "source": [
    "#Tuples\n",
    "\n",
    "star=(1,2,3,4,1,2,5,6,2,3,4,5)\n",
    "star"
   ]
  },
  {
   "cell_type": "code",
   "execution_count": 2,
   "metadata": {},
   "outputs": [
    {
     "data": {
      "text/plain": [
       "tuple"
      ]
     },
     "execution_count": 2,
     "metadata": {},
     "output_type": "execute_result"
    }
   ],
   "source": [
    "type(star)\n",
    "#len(star)"
   ]
  },
  {
   "cell_type": "code",
   "execution_count": 3,
   "metadata": {},
   "outputs": [
    {
     "data": {
      "text/plain": [
       "(1, 2, 3, 4, 1, 2, 5, 6, 2, 3, 4, 5)"
      ]
     },
     "execution_count": 3,
     "metadata": {},
     "output_type": "execute_result"
    }
   ],
   "source": [
    "star"
   ]
  },
  {
   "cell_type": "code",
   "execution_count": 4,
   "metadata": {},
   "outputs": [
    {
     "data": {
      "text/plain": [
       "30"
      ]
     },
     "execution_count": 4,
     "metadata": {},
     "output_type": "execute_result"
    }
   ],
   "source": [
    "5+25"
   ]
  },
  {
   "cell_type": "code",
   "execution_count": 8,
   "metadata": {},
   "outputs": [
    {
     "data": {
      "text/plain": [
       "' Hello, GoodMorning '"
      ]
     },
     "execution_count": 8,
     "metadata": {},
     "output_type": "execute_result"
    }
   ],
   "source": [
    "\" Hello, GoodMorning \""
   ]
  },
  {
   "cell_type": "code",
   "execution_count": 9,
   "metadata": {},
   "outputs": [
    {
     "data": {
      "text/plain": [
       "0.5"
      ]
     },
     "execution_count": 9,
     "metadata": {},
     "output_type": "execute_result"
    }
   ],
   "source": [
    "2 / 4"
   ]
  },
  {
   "cell_type": "code",
   "execution_count": 11,
   "metadata": {},
   "outputs": [
    {
     "name": "stdout",
     "output_type": "stream",
     "text": [
      "Good Afternoon\n",
      "30\n"
     ]
    },
    {
     "data": {
      "text/plain": [
       "'hello World'"
      ]
     },
     "execution_count": 11,
     "metadata": {},
     "output_type": "execute_result"
    }
   ],
   "source": [
    "#print(10+10)\n",
    "print(\"Good Afternoon\")\n",
    "print(25+5)\n",
    "\"hello World\""
   ]
  },
  {
   "cell_type": "code",
   "execution_count": 14,
   "metadata": {},
   "outputs": [
    {
     "data": {
      "text/plain": [
       "3125"
      ]
     },
     "execution_count": 14,
     "metadata": {},
     "output_type": "execute_result"
    }
   ],
   "source": [
    "#Squaring the Number\n",
    "\n",
    "5*5*5*5*5\n",
    "5**5"
   ]
  },
  {
   "cell_type": "code",
   "execution_count": 17,
   "metadata": {},
   "outputs": [
    {
     "data": {
      "text/plain": [
       "0"
      ]
     },
     "execution_count": 17,
     "metadata": {},
     "output_type": "execute_result"
    }
   ],
   "source": [
    "14 % 2"
   ]
  },
  {
   "cell_type": "code",
   "execution_count": null,
   "metadata": {},
   "outputs": [],
   "source": [
    "7 % 2"
   ]
  },
  {
   "cell_type": "code",
   "execution_count": 18,
   "metadata": {},
   "outputs": [
    {
     "data": {
      "text/plain": [
       "2144.8045977011493"
      ]
     },
     "execution_count": 18,
     "metadata": {},
     "output_type": "execute_result"
    }
   ],
   "source": [
    "(11 + 29) * (12 + 29) + (121+345) + (68+922) - (85*455) / (155+976)-(623+294)"
   ]
  },
  {
   "cell_type": "markdown",
   "metadata": {},
   "source": [
    "# Variable Assignment"
   ]
  },
  {
   "cell_type": "markdown",
   "metadata": {},
   "source": [
    "# Part of exercise - please assign new variable names while including below given symbols                  \n",
    "\n",
    ":'\",<>/?|\\!@#%^&*~-+"
   ]
  },
  {
   "cell_type": "code",
   "execution_count": 22,
   "metadata": {},
   "outputs": [],
   "source": [
    "# Can not start with number or special characters\n",
    "car = 2"
   ]
  },
  {
   "cell_type": "code",
   "execution_count": 23,
   "metadata": {},
   "outputs": [
    {
     "data": {
      "text/plain": [
       "2"
      ]
     },
     "execution_count": 23,
     "metadata": {},
     "output_type": "execute_result"
    }
   ],
   "source": [
    "car"
   ]
  },
  {
   "cell_type": "code",
   "execution_count": 25,
   "metadata": {},
   "outputs": [
    {
     "data": {
      "text/plain": [
       "20"
      ]
     },
     "execution_count": 25,
     "metadata": {},
     "output_type": "execute_result"
    }
   ],
   "source": [
    "x"
   ]
  },
  {
   "cell_type": "code",
   "execution_count": 24,
   "metadata": {},
   "outputs": [],
   "source": [
    "x = 20\n",
    "y = 3"
   ]
  },
  {
   "cell_type": "code",
   "execution_count": 26,
   "metadata": {},
   "outputs": [
    {
     "data": {
      "text/plain": [
       "23"
      ]
     },
     "execution_count": 26,
     "metadata": {},
     "output_type": "execute_result"
    }
   ],
   "source": [
    "z = x + y\n",
    "z"
   ]
  },
  {
   "cell_type": "code",
   "execution_count": 27,
   "metadata": {},
   "outputs": [
    {
     "data": {
      "text/plain": [
       "23"
      ]
     },
     "execution_count": 27,
     "metadata": {},
     "output_type": "execute_result"
    }
   ],
   "source": [
    "z\n"
   ]
  },
  {
   "cell_type": "markdown",
   "metadata": {},
   "source": [
    "# Strings"
   ]
  },
  {
   "cell_type": "code",
   "execution_count": null,
   "metadata": {},
   "outputs": [],
   "source": [
    "'single quotes'"
   ]
  },
  {
   "cell_type": "code",
   "execution_count": null,
   "metadata": {},
   "outputs": [],
   "source": [
    "\"double quotes\""
   ]
  },
  {
   "cell_type": "code",
   "execution_count": null,
   "metadata": {},
   "outputs": [],
   "source": [
    "\"That's how's a person's play's football's\""
   ]
  },
  {
   "cell_type": "code",
   "execution_count": null,
   "metadata": {},
   "outputs": [],
   "source": [
    "\" Hello 55 World @!?? 87'6 efgdtrs 5453 ghftrfs \""
   ]
  },
  {
   "cell_type": "code",
   "execution_count": null,
   "metadata": {},
   "outputs": [],
   "source": [
    "'He Said.\"Hello\"'"
   ]
  },
  {
   "cell_type": "markdown",
   "metadata": {},
   "source": [
    "### Printing"
   ]
  },
  {
   "cell_type": "code",
   "execution_count": null,
   "metadata": {},
   "outputs": [],
   "source": [
    "x = 242424\n",
    "x"
   ]
  },
  {
   "cell_type": "code",
   "execution_count": null,
   "metadata": {},
   "outputs": [],
   "source": [
    "print(x)"
   ]
  },
  {
   "cell_type": "markdown",
   "metadata": {},
   "source": [
    "# Create a sentence where the outpt will generate name of the person, desingation, age, gender and salary"
   ]
  },
  {
   "cell_type": "code",
   "execution_count": 28,
   "metadata": {},
   "outputs": [],
   "source": [
    "num = 12\n",
    "name = \"Sam\"\n",
    "num1=23\n",
    "name1=\"John\"\n",
    "num2=25\n",
    "name2=\"Sandy\"\n"
   ]
  },
  {
   "cell_type": "code",
   "execution_count": 34,
   "metadata": {},
   "outputs": [
    {
     "name": "stdout",
     "output_type": "stream",
     "text": [
      "My Age is: 25, and my Name is: Sam\n"
     ]
    }
   ],
   "source": [
    "print('My Age is: {one}, and my Name is: {two}'.format(one=num2,two=name))"
   ]
  },
  {
   "cell_type": "code",
   "execution_count": 36,
   "metadata": {},
   "outputs": [
    {
     "name": "stdout",
     "output_type": "stream",
     "text": [
      "My Age is: 12, and my name is: Sam\n"
     ]
    }
   ],
   "source": [
    "print('My Age is: {}, and my name is: {}'.format(num,name))"
   ]
  },
  {
   "cell_type": "markdown",
   "metadata": {},
   "source": [
    "### Lists"
   ]
  },
  {
   "cell_type": "code",
   "execution_count": 37,
   "metadata": {},
   "outputs": [
    {
     "data": {
      "text/plain": [
       "['hi', 1, [1, 2], (1, 3)]"
      ]
     },
     "execution_count": 37,
     "metadata": {},
     "output_type": "execute_result"
    }
   ],
   "source": [
    "len([1,2,3])\n",
    "['hi',1,[1,2],(1,3)]"
   ]
  },
  {
   "cell_type": "code",
   "execution_count": 49,
   "metadata": {},
   "outputs": [
    {
     "data": {
      "text/plain": [
       "['Moon', 'Earth', 'Mars']"
      ]
     },
     "execution_count": 49,
     "metadata": {},
     "output_type": "execute_result"
    }
   ],
   "source": [
    "sun=[\"Moon\",\"Earth\",\"Mars\"]\n",
    "sun"
   ]
  },
  {
   "cell_type": "markdown",
   "metadata": {},
   "source": [
    "## Extend Function"
   ]
  },
  {
   "cell_type": "code",
   "execution_count": 42,
   "metadata": {},
   "outputs": [
    {
     "data": {
      "text/plain": [
       "['Moon', 'Earth', 'Mars', 'Neptune', 'Saturn', 'Uranus']"
      ]
     },
     "execution_count": 42,
     "metadata": {},
     "output_type": "execute_result"
    }
   ],
   "source": [
    "sun.extend([\"Neptune\",\"Saturn\",\"Uranus\"])\n",
    "sun"
   ]
  },
  {
   "cell_type": "markdown",
   "metadata": {},
   "source": [
    "## Append Function"
   ]
  },
  {
   "cell_type": "code",
   "execution_count": 48,
   "metadata": {},
   "outputs": [
    {
     "data": {
      "text/plain": [
       "['Moon', 'Earth', 'Mars', 'Jupiter', ['Pluto', 'Neptune']]"
      ]
     },
     "execution_count": 48,
     "metadata": {},
     "output_type": "execute_result"
    }
   ],
   "source": [
    "#sun.append(\"Jupiter\")\n",
    "sun.append([\"Pluto\",\"Neptune\"])\n",
    "sun"
   ]
  },
  {
   "cell_type": "markdown",
   "metadata": {},
   "source": [
    "## Insert Function"
   ]
  },
  {
   "cell_type": "code",
   "execution_count": 73,
   "metadata": {},
   "outputs": [
    {
     "data": {
      "text/plain": [
       "['Moon', 'Earth', 'Mars', 'Neptune', 'Saturn', 'Uranus']"
      ]
     },
     "execution_count": 73,
     "metadata": {},
     "output_type": "execute_result"
    }
   ],
   "source": [
    "sun=[\"Moon\",\"Earth\",\"Mars\"]\n",
    "sun.extend([\"Neptune\",\"Saturn\",\"Uranus\"])\n",
    "sun"
   ]
  },
  {
   "cell_type": "code",
   "execution_count": 70,
   "metadata": {},
   "outputs": [
    {
     "data": {
      "text/plain": [
       "81750088"
      ]
     },
     "execution_count": 70,
     "metadata": {},
     "output_type": "execute_result"
    }
   ],
   "source": [
    "#Index Position Number\n",
    "sun.insert(5,[\"Solar System\",\"Pluto\",\"Galaxy\"])\n",
    "type(sun)\n",
    "\n",
    "id(sun)"
   ]
  },
  {
   "cell_type": "markdown",
   "metadata": {},
   "source": [
    "# Deletion of Lists"
   ]
  },
  {
   "cell_type": "markdown",
   "metadata": {},
   "source": [
    "## del"
   ]
  },
  {
   "cell_type": "code",
   "execution_count": 71,
   "metadata": {},
   "outputs": [],
   "source": [
    "del sun"
   ]
  },
  {
   "cell_type": "code",
   "execution_count": 74,
   "metadata": {},
   "outputs": [
    {
     "data": {
      "text/plain": [
       "['Moon', 'Earth', 'Mars', 'Neptune', 'Saturn', 'Uranus']"
      ]
     },
     "execution_count": 74,
     "metadata": {},
     "output_type": "execute_result"
    }
   ],
   "source": [
    "sun"
   ]
  },
  {
   "cell_type": "markdown",
   "metadata": {},
   "source": [
    "## remove"
   ]
  },
  {
   "cell_type": "code",
   "execution_count": 75,
   "metadata": {},
   "outputs": [
    {
     "data": {
      "text/plain": [
       "['Earth', 'Mars', 'Neptune', 'Saturn', 'Uranus']"
      ]
     },
     "execution_count": 75,
     "metadata": {},
     "output_type": "execute_result"
    }
   ],
   "source": [
    "sun.remove(\"Moon\")\n",
    "sun"
   ]
  },
  {
   "cell_type": "markdown",
   "metadata": {},
   "source": [
    "## pop"
   ]
  },
  {
   "cell_type": "code",
   "execution_count": 76,
   "metadata": {},
   "outputs": [
    {
     "data": {
      "text/plain": [
       "['Earth', 'Mars', 'Saturn', 'Uranus']"
      ]
     },
     "execution_count": 76,
     "metadata": {},
     "output_type": "execute_result"
    }
   ],
   "source": [
    "sun.pop(2)\n",
    "sun"
   ]
  },
  {
   "cell_type": "code",
   "execution_count": 84,
   "metadata": {},
   "outputs": [
    {
     "data": {
      "text/plain": [
       "list"
      ]
     },
     "execution_count": 84,
     "metadata": {},
     "output_type": "execute_result"
    }
   ],
   "source": [
    "my_list = ['a','b','c']\n",
    "my_list\n",
    "len(my_list)\n",
    "type(my_list)"
   ]
  },
  {
   "cell_type": "code",
   "execution_count": 85,
   "metadata": {},
   "outputs": [],
   "source": [
    "#Append adds a new element into the pre-existing object/variable\n",
    "my_list.append('d')\n",
    "my_list.append('1')\n",
    "my_list.append(\"K\")\n",
    "my_list.append([\"Karan\",\"Mehta\",\"Hi\"])\n",
    "my_list.append([\"T\",\"H\"])"
   ]
  },
  {
   "cell_type": "code",
   "execution_count": 93,
   "metadata": {},
   "outputs": [
    {
     "data": {
      "text/plain": [
       "['a', 'b', 'c', 'd', '1', 'K', ['Karan', 'Mehta', 'Hi'], ['T', 'H']]"
      ]
     },
     "execution_count": 93,
     "metadata": {},
     "output_type": "execute_result"
    }
   ],
   "source": [
    "my_list"
   ]
  },
  {
   "cell_type": "code",
   "execution_count": 92,
   "metadata": {},
   "outputs": [
    {
     "data": {
      "text/plain": [
       "'Mehta'"
      ]
     },
     "execution_count": 92,
     "metadata": {},
     "output_type": "execute_result"
    }
   ],
   "source": [
    "my_list[6][1]"
   ]
  },
  {
   "cell_type": "code",
   "execution_count": 95,
   "metadata": {},
   "outputs": [],
   "source": [
    "my_list[4]=\"New Delhi\""
   ]
  },
  {
   "cell_type": "code",
   "execution_count": 96,
   "metadata": {},
   "outputs": [
    {
     "data": {
      "text/plain": [
       "['a', 'b', 'c', 'd', 'New Delhi', 'K', ['Karan', 'Mehta', 'Hi'], ['T', 'H']]"
      ]
     },
     "execution_count": 96,
     "metadata": {},
     "output_type": "execute_result"
    }
   ],
   "source": [
    "my_list"
   ]
  },
  {
   "cell_type": "code",
   "execution_count": null,
   "metadata": {},
   "outputs": [],
   "source": [
    "#Object Slicing\n",
    "my_list[7][1]"
   ]
  },
  {
   "cell_type": "code",
   "execution_count": 97,
   "metadata": {},
   "outputs": [
    {
     "data": {
      "text/plain": [
       "'c'"
      ]
     },
     "execution_count": 97,
     "metadata": {},
     "output_type": "execute_result"
    }
   ],
   "source": [
    "#Negative Object Slicing\n",
    "my_list[-6]"
   ]
  },
  {
   "cell_type": "code",
   "execution_count": null,
   "metadata": {},
   "outputs": [],
   "source": [
    "my_list[-3]\n",
    "my_list"
   ]
  },
  {
   "cell_type": "code",
   "execution_count": null,
   "metadata": {},
   "outputs": [],
   "source": [
    "#Sequence\n",
    "my_list[:5]"
   ]
  },
  {
   "cell_type": "code",
   "execution_count": null,
   "metadata": {},
   "outputs": [],
   "source": [
    "my_list[:7]\n",
    "my_list[2:]\n",
    "my_list[2:5]\n",
    "my_list"
   ]
  },
  {
   "cell_type": "code",
   "execution_count": null,
   "metadata": {},
   "outputs": [],
   "source": [
    "#Replacing List Element\n",
    "my_list[6] = 'Python'\n",
    "my_list[7][0]=\"Tree\"\n",
    "my_list[7][1]=\"Hat\""
   ]
  },
  {
   "cell_type": "code",
   "execution_count": null,
   "metadata": {},
   "outputs": [],
   "source": [
    "my_list"
   ]
  },
  {
   "cell_type": "code",
   "execution_count": null,
   "metadata": {},
   "outputs": [],
   "source": [
    "#Nesting List\n",
    "nest = [1,2,3,[4,5,['target',\"Hello\",\"Hi\"]]]\n",
    "nest"
   ]
  },
  {
   "cell_type": "code",
   "execution_count": 102,
   "metadata": {},
   "outputs": [
    {
     "data": {
      "text/plain": [
       "['Hi Guys',\n",
       " ['Welcome',\n",
       "  'to',\n",
       "  'this Session',\n",
       "  ['We', 'will', 'be', 'performing a simple', 'exercise'],\n",
       "  'that',\n",
       "  'will',\n",
       "  'only require',\n",
       "  '10 Minutes'],\n",
       " 'of time']"
      ]
     },
     "execution_count": 102,
     "metadata": {},
     "output_type": "execute_result"
    }
   ],
   "source": [
    "#nest[3][2][1]\n",
    "smoke"
   ]
  },
  {
   "cell_type": "code",
   "execution_count": 99,
   "metadata": {},
   "outputs": [],
   "source": [
    "#(wills from the sentence, 10 Minutes, exercise, of time, Welcome and performing a simple)"
   ]
  },
  {
   "cell_type": "code",
   "execution_count": null,
   "metadata": {},
   "outputs": [],
   "source": [
    "#Appending a new element into a nested list\n",
    "nest[3][2].append(\"Earth\")"
   ]
  },
  {
   "cell_type": "code",
   "execution_count": null,
   "metadata": {},
   "outputs": [],
   "source": [
    "nest"
   ]
  },
  {
   "cell_type": "code",
   "execution_count": null,
   "metadata": {},
   "outputs": [],
   "source": [
    "nest[3][2][1]"
   ]
  },
  {
   "cell_type": "code",
   "execution_count": 100,
   "metadata": {},
   "outputs": [],
   "source": [
    "smoke=[\"Hi Guys\",[\"Welcome\",\"to\",\"this Session\",[\"We\",\"will\",\"be\",\"performing a simple\",\"exercise\"],\"that\",\"will\",\"only require\",\"10 Minutes\"],\"of time\"]\n"
   ]
  },
  {
   "cell_type": "code",
   "execution_count": null,
   "metadata": {
    "scrolled": true
   },
   "outputs": [],
   "source": [
    "smoke"
   ]
  },
  {
   "cell_type": "code",
   "execution_count": null,
   "metadata": {},
   "outputs": [],
   "source": [
    "#(wills from the sentence, 10 Minutes, exercise, of time, Welcome and performing a simple)"
   ]
  },
  {
   "cell_type": "code",
   "execution_count": 103,
   "metadata": {},
   "outputs": [
    {
     "name": "stdout",
     "output_type": "stream",
     "text": [
      "will will 10 Minutes exercise of time Welcome performing a simple\n"
     ]
    }
   ],
   "source": [
    "print(smoke[1][3][1], smoke[1][5], smoke[1][7], smoke[1][3][4], smoke[2], smoke[1][0], smoke[1][3][3])"
   ]
  },
  {
   "cell_type": "code",
   "execution_count": 104,
   "metadata": {},
   "outputs": [
    {
     "data": {
      "text/plain": [
       "['Hi Guys',\n",
       " ['Welcome',\n",
       "  'to',\n",
       "  'this Session',\n",
       "  ['We', 'will', 'be', 'performing a simple', 'exercise'],\n",
       "  'that',\n",
       "  'will',\n",
       "  'only require',\n",
       "  '10 Minutes'],\n",
       " 'of time']"
      ]
     },
     "execution_count": 104,
     "metadata": {},
     "output_type": "execute_result"
    }
   ],
   "source": [
    "smoke"
   ]
  },
  {
   "cell_type": "code",
   "execution_count": 108,
   "metadata": {},
   "outputs": [
    {
     "data": {
      "text/plain": [
       "'10 Minutes'"
      ]
     },
     "execution_count": 108,
     "metadata": {},
     "output_type": "execute_result"
    }
   ],
   "source": [
    "# 10 Minutes\n",
    "\n",
    "smoke[1][7]"
   ]
  },
  {
   "cell_type": "code",
   "execution_count": 109,
   "metadata": {},
   "outputs": [
    {
     "data": {
      "text/plain": [
       "'exercise'"
      ]
     },
     "execution_count": 109,
     "metadata": {},
     "output_type": "execute_result"
    }
   ],
   "source": [
    "# exercise\n",
    "\n",
    "smoke[1][3][4]"
   ]
  },
  {
   "cell_type": "code",
   "execution_count": 110,
   "metadata": {},
   "outputs": [
    {
     "data": {
      "text/plain": [
       "'of time'"
      ]
     },
     "execution_count": 110,
     "metadata": {},
     "output_type": "execute_result"
    }
   ],
   "source": [
    "#of time\n",
    "smoke[2]\n"
   ]
  },
  {
   "cell_type": "code",
   "execution_count": 111,
   "metadata": {},
   "outputs": [
    {
     "data": {
      "text/plain": [
       "'Welcome'"
      ]
     },
     "execution_count": 111,
     "metadata": {},
     "output_type": "execute_result"
    }
   ],
   "source": [
    "#Welcome\n",
    "\n",
    "smoke[1][0]"
   ]
  },
  {
   "cell_type": "code",
   "execution_count": 112,
   "metadata": {},
   "outputs": [
    {
     "data": {
      "text/plain": [
       "'performing a simple'"
      ]
     },
     "execution_count": 112,
     "metadata": {},
     "output_type": "execute_result"
    }
   ],
   "source": [
    "#performing a simple\n",
    "\n",
    "smoke[1][3][3]"
   ]
  },
  {
   "cell_type": "markdown",
   "metadata": {},
   "source": [
    "### Dictionaries"
   ]
  },
  {
   "cell_type": "code",
   "execution_count": 115,
   "metadata": {},
   "outputs": [
    {
     "data": {
      "text/plain": [
       "dict"
      ]
     },
     "execution_count": 115,
     "metadata": {},
     "output_type": "execute_result"
    }
   ],
   "source": [
    "d = {'key1':'item1','key2':'item2',\"key3\":[\"item1\",\"item2\",\"item3\"]}\n",
    "type(d)"
   ]
  },
  {
   "cell_type": "code",
   "execution_count": 116,
   "metadata": {},
   "outputs": [
    {
     "data": {
      "text/plain": [
       "['item1', 'item2', 'item3']"
      ]
     },
     "execution_count": 116,
     "metadata": {},
     "output_type": "execute_result"
    }
   ],
   "source": [
    "d[\"key3\"]"
   ]
  },
  {
   "cell_type": "code",
   "execution_count": 117,
   "metadata": {},
   "outputs": [
    {
     "data": {
      "text/plain": [
       "{'key1': 'item1', 'key2': 'Friday', 'key3': ['item1', 'item2', 'item3']}"
      ]
     },
     "execution_count": 117,
     "metadata": {},
     "output_type": "execute_result"
    }
   ],
   "source": [
    "type(d)\n",
    "#d[\"key3\"][0]=\"Karan\"\n",
    "d[\"key2\"]=\"Friday\"\n",
    "d"
   ]
  },
  {
   "cell_type": "code",
   "execution_count": 132,
   "metadata": {},
   "outputs": [
    {
     "data": {
      "text/plain": [
       "{'Name': ['Ram', 'Shyam', 'Joseph', 'Jerry'],\n",
       " 'Age': [23, 24, 25, 26],\n",
       " 'Location': ['Delhi', 'Mumbai', 'Chennai', 'Pune']}"
      ]
     },
     "execution_count": 132,
     "metadata": {},
     "output_type": "execute_result"
    }
   ],
   "source": [
    "d1={\"Name\":[\"Ram\",\"Shyam\",\"Joseph\",\"Jerry\"],\"Age\":[23,24,25,26],\"Location\":[\"Delhi\",\"Mumbai\",\"Chennai\",\"Pune\"]}\n",
    "d1"
   ]
  },
  {
   "cell_type": "code",
   "execution_count": 133,
   "metadata": {},
   "outputs": [
    {
     "data": {
      "text/html": [
       "<div>\n",
       "<style scoped>\n",
       "    .dataframe tbody tr th:only-of-type {\n",
       "        vertical-align: middle;\n",
       "    }\n",
       "\n",
       "    .dataframe tbody tr th {\n",
       "        vertical-align: top;\n",
       "    }\n",
       "\n",
       "    .dataframe thead th {\n",
       "        text-align: right;\n",
       "    }\n",
       "</style>\n",
       "<table border=\"1\" class=\"dataframe\">\n",
       "  <thead>\n",
       "    <tr style=\"text-align: right;\">\n",
       "      <th></th>\n",
       "      <th>Name</th>\n",
       "      <th>Age</th>\n",
       "      <th>Location</th>\n",
       "    </tr>\n",
       "  </thead>\n",
       "  <tbody>\n",
       "    <tr>\n",
       "      <th>0</th>\n",
       "      <td>Ram</td>\n",
       "      <td>23</td>\n",
       "      <td>Delhi</td>\n",
       "    </tr>\n",
       "    <tr>\n",
       "      <th>1</th>\n",
       "      <td>Shyam</td>\n",
       "      <td>24</td>\n",
       "      <td>Mumbai</td>\n",
       "    </tr>\n",
       "    <tr>\n",
       "      <th>2</th>\n",
       "      <td>Joseph</td>\n",
       "      <td>25</td>\n",
       "      <td>Chennai</td>\n",
       "    </tr>\n",
       "    <tr>\n",
       "      <th>3</th>\n",
       "      <td>Jerry</td>\n",
       "      <td>26</td>\n",
       "      <td>Pune</td>\n",
       "    </tr>\n",
       "  </tbody>\n",
       "</table>\n",
       "</div>"
      ],
      "text/plain": [
       "     Name  Age Location\n",
       "0     Ram   23    Delhi\n",
       "1   Shyam   24   Mumbai\n",
       "2  Joseph   25  Chennai\n",
       "3   Jerry   26     Pune"
      ]
     },
     "execution_count": 133,
     "metadata": {},
     "output_type": "execute_result"
    }
   ],
   "source": [
    "import pandas as pd\n",
    "pd.DataFrame(d1)"
   ]
  },
  {
   "cell_type": "code",
   "execution_count": 136,
   "metadata": {},
   "outputs": [
    {
     "data": {
      "text/plain": [
       "[('p0', 'q1', 1, 2),\n",
       " ('p1', 'q2', 3, 4),\n",
       " ('p2', 'q3', 5, 6),\n",
       " ('p3', 'q4', 7, 8)]"
      ]
     },
     "execution_count": 136,
     "metadata": {},
     "output_type": "execute_result"
    }
   ],
   "source": [
    "Saturday=[\n",
    "    (\"p0\",\"q1\",1,2),\n",
    "    (\"p1\",\"q2\",3,4),\n",
    "    (\"p2\",\"q3\",5,6),\n",
    "    (\"p3\",\"q4\",7,8)\n",
    "]\n",
    "Saturday"
   ]
  },
  {
   "cell_type": "code",
   "execution_count": 137,
   "metadata": {},
   "outputs": [
    {
     "data": {
      "text/html": [
       "<div>\n",
       "<style scoped>\n",
       "    .dataframe tbody tr th:only-of-type {\n",
       "        vertical-align: middle;\n",
       "    }\n",
       "\n",
       "    .dataframe tbody tr th {\n",
       "        vertical-align: top;\n",
       "    }\n",
       "\n",
       "    .dataframe thead th {\n",
       "        text-align: right;\n",
       "    }\n",
       "</style>\n",
       "<table border=\"1\" class=\"dataframe\">\n",
       "  <thead>\n",
       "    <tr style=\"text-align: right;\">\n",
       "      <th></th>\n",
       "      <th>0</th>\n",
       "      <th>1</th>\n",
       "      <th>2</th>\n",
       "      <th>3</th>\n",
       "    </tr>\n",
       "  </thead>\n",
       "  <tbody>\n",
       "    <tr>\n",
       "      <th>0</th>\n",
       "      <td>p0</td>\n",
       "      <td>q1</td>\n",
       "      <td>1</td>\n",
       "      <td>2</td>\n",
       "    </tr>\n",
       "    <tr>\n",
       "      <th>1</th>\n",
       "      <td>p1</td>\n",
       "      <td>q2</td>\n",
       "      <td>3</td>\n",
       "      <td>4</td>\n",
       "    </tr>\n",
       "    <tr>\n",
       "      <th>2</th>\n",
       "      <td>p2</td>\n",
       "      <td>q3</td>\n",
       "      <td>5</td>\n",
       "      <td>6</td>\n",
       "    </tr>\n",
       "    <tr>\n",
       "      <th>3</th>\n",
       "      <td>p3</td>\n",
       "      <td>q4</td>\n",
       "      <td>7</td>\n",
       "      <td>8</td>\n",
       "    </tr>\n",
       "  </tbody>\n",
       "</table>\n",
       "</div>"
      ],
      "text/plain": [
       "    0   1  2  3\n",
       "0  p0  q1  1  2\n",
       "1  p1  q2  3  4\n",
       "2  p2  q3  5  6\n",
       "3  p3  q4  7  8"
      ]
     },
     "execution_count": 137,
     "metadata": {},
     "output_type": "execute_result"
    }
   ],
   "source": [
    "import pandas as pd\n",
    "star=pd.DataFrame(Saturday)\n",
    "star\n",
    "#install is not recognzed as in internal or external command"
   ]
  },
  {
   "cell_type": "code",
   "execution_count": null,
   "metadata": {},
   "outputs": [],
   "source": [
    "Saturday=pd.DataFrame(Saturday)\n",
    "Saturday"
   ]
  },
  {
   "cell_type": "code",
   "execution_count": null,
   "metadata": {},
   "outputs": [],
   "source": [
    "star=star.append({\"Name\":\"TOM\",\"Age\":29,\"Location\":\"Bihar\"},ignore_index=True)"
   ]
  },
  {
   "cell_type": "code",
   "execution_count": null,
   "metadata": {},
   "outputs": [],
   "source": [
    "star"
   ]
  },
  {
   "cell_type": "code",
   "execution_count": null,
   "metadata": {},
   "outputs": [],
   "source": [
    "star"
   ]
  },
  {
   "cell_type": "code",
   "execution_count": null,
   "metadata": {},
   "outputs": [],
   "source": [
    "d1"
   ]
  },
  {
   "cell_type": "code",
   "execution_count": null,
   "metadata": {},
   "outputs": [],
   "source": [
    "#Accesing elements with key\n",
    "print(d1[\"Name\"])\n",
    "print(d1[\"Age\"])\n",
    "print(d1[\"Location\"])"
   ]
  },
  {
   "cell_type": "code",
   "execution_count": 138,
   "metadata": {},
   "outputs": [
    {
     "data": {
      "text/plain": [
       "{'Name': ['Ram', 'Shyam', 'Joseph', 'Jerry'],\n",
       " 'Age': [23, 24, 25, 26],\n",
       " 'Location': ['Delhi', 'Mumbai', 'Chennai', 'Pune']}"
      ]
     },
     "execution_count": 138,
     "metadata": {},
     "output_type": "execute_result"
    }
   ],
   "source": [
    "d1"
   ]
  },
  {
   "cell_type": "code",
   "execution_count": 142,
   "metadata": {},
   "outputs": [
    {
     "data": {
      "text/plain": [
       "{'Name': ['Ram', 'Shyam', 'Joseph', 'Jerry'],\n",
       " 'Age': [23, 24, 25, 26],\n",
       " 'Location': ['Delhi', 'Mumbai', 'Chennai', 'Pune']}"
      ]
     },
     "execution_count": 142,
     "metadata": {},
     "output_type": "execute_result"
    }
   ],
   "source": [
    "#Checkinf if Dictionary contains the key[\"Numeric\"  and \"Character\" Keys]\n",
    "\"Name\" in d1\n",
    "\"Salary\" in d1\n",
    "\"Location\" in d1\n",
    "d1"
   ]
  },
  {
   "cell_type": "code",
   "execution_count": 143,
   "metadata": {
    "scrolled": true
   },
   "outputs": [
    {
     "data": {
      "text/plain": [
       "{'Name': ['Ram', 'Shyam', 'Joseph', 'Jerry'],\n",
       " 'Age': [23, 24, 25, 26],\n",
       " 'Location': ['Delhi', 'Mumbai', 'Chennai', 'Pune'],\n",
       " 'Sun': ['Moon', 'Earth', 'Mercury', 'Venus', 'Mars', 123]}"
      ]
     },
     "execution_count": 143,
     "metadata": {},
     "output_type": "execute_result"
    }
   ],
   "source": [
    "#Inserting new key and value\n",
    "d1[\"Sun\"]=[\"Moon\",\"Earth\",\"Mercury\",\"Venus\",\"Mars\",123]\n",
    "d1"
   ]
  },
  {
   "cell_type": "code",
   "execution_count": 144,
   "metadata": {},
   "outputs": [
    {
     "data": {
      "text/plain": [
       "{'Name': ['Ram', 'Shyam', 'Joseph', 'Jerry'],\n",
       " 'Age': [23, 24, 25, 26],\n",
       " 'Location': ['Delhi', 'Mumbai', 'Chennai', 'Pune'],\n",
       " 'Sun': ['Moon', 'Earth', 'Mercury', 'Venus', 'Mars', 123],\n",
       " 786: [100, 150, 200]}"
      ]
     },
     "execution_count": 144,
     "metadata": {},
     "output_type": "execute_result"
    }
   ],
   "source": [
    "#Inserting a new Numeric Key and value\n",
    "d1[786]=[100,150,200]\n",
    "d1"
   ]
  },
  {
   "cell_type": "code",
   "execution_count": 145,
   "metadata": {},
   "outputs": [
    {
     "data": {
      "text/plain": [
       "dict"
      ]
     },
     "execution_count": 145,
     "metadata": {},
     "output_type": "execute_result"
    }
   ],
   "source": [
    "raw={\"Sun\":[\"Moon\",\"Earth\",\"Mercury\",\"Venus\",\"Mars\"]}\n",
    "type(raw)"
   ]
  },
  {
   "cell_type": "code",
   "execution_count": 146,
   "metadata": {},
   "outputs": [
    {
     "data": {
      "text/plain": [
       "{'Sun': ['Ram', 'Shyam', 'Mohan']}"
      ]
     },
     "execution_count": 146,
     "metadata": {},
     "output_type": "execute_result"
    }
   ],
   "source": [
    "#replacing the elements/values\n",
    "raw[\"Sun\"]=[\"Ram\",\"Shyam\",\"Mohan\"]\n",
    "raw"
   ]
  },
  {
   "cell_type": "code",
   "execution_count": 147,
   "metadata": {},
   "outputs": [
    {
     "data": {
      "text/plain": [
       "{'Sun': ['Ram', 'Shyam', 'Mohan', ['jupyter', 'moon']]}"
      ]
     },
     "execution_count": 147,
     "metadata": {},
     "output_type": "execute_result"
    }
   ],
   "source": [
    "raw[\"Sun\"].append([\"jupyter\",\"moon\"])\n",
    "raw"
   ]
  },
  {
   "cell_type": "code",
   "execution_count": 148,
   "metadata": {},
   "outputs": [
    {
     "data": {
      "text/plain": [
       "{'Sun': ['Ram', 'Shyam', 'Mohan', ['jupyter', 'moon'], 'Jupyter', 'Moon']}"
      ]
     },
     "execution_count": 148,
     "metadata": {},
     "output_type": "execute_result"
    }
   ],
   "source": [
    "#Appending the new values\n",
    "#Whether the append function works with Dictionary or not?\n",
    "raw[\"Sun\"].extend([\"Jupyter\",\"Moon\"])\n",
    "raw\n",
    "#Update and Insert, extend"
   ]
  },
  {
   "cell_type": "code",
   "execution_count": null,
   "metadata": {},
   "outputs": [],
   "source": [
    "raw"
   ]
  },
  {
   "cell_type": "code",
   "execution_count": 149,
   "metadata": {},
   "outputs": [
    {
     "ename": "NameError",
     "evalue": "name 'd1' is not defined",
     "output_type": "error",
     "traceback": [
      "\u001b[1;31m---------------------------------------------------------------------------\u001b[0m",
      "\u001b[1;31mNameError\u001b[0m                                 Traceback (most recent call last)",
      "\u001b[1;32m<ipython-input-149-9f4b141a864f>\u001b[0m in \u001b[0;36m<module>\u001b[1;34m\u001b[0m\n\u001b[0;32m      1\u001b[0m \u001b[1;31m#Deleting whole dictionary\u001b[0m\u001b[1;33m\u001b[0m\u001b[1;33m\u001b[0m\u001b[1;33m\u001b[0m\u001b[0m\n\u001b[0;32m      2\u001b[0m \u001b[1;32mdel\u001b[0m \u001b[0md1\u001b[0m\u001b[1;33m\u001b[0m\u001b[1;33m\u001b[0m\u001b[0m\n\u001b[1;32m----> 3\u001b[1;33m \u001b[0md1\u001b[0m\u001b[1;33m\u001b[0m\u001b[1;33m\u001b[0m\u001b[0m\n\u001b[0m\u001b[0;32m      4\u001b[0m \u001b[1;31m# If you have executed this command the whole object will get removed To work again with the dictionary object please-\u001b[0m\u001b[1;33m\u001b[0m\u001b[1;33m\u001b[0m\u001b[1;33m\u001b[0m\u001b[0m\n\u001b[0;32m      5\u001b[0m \u001b[1;31m#-execute the d1 commands from beginning.\u001b[0m\u001b[1;33m\u001b[0m\u001b[1;33m\u001b[0m\u001b[1;33m\u001b[0m\u001b[0m\n",
      "\u001b[1;31mNameError\u001b[0m: name 'd1' is not defined"
     ]
    }
   ],
   "source": [
    "#Deleting whole dictionary\n",
    "del d1\n",
    "d1\n",
    "# If you have executed this command the whole object will get removed To work again with the dictionary object please-\n",
    "#-execute the d1 commands from beginning."
   ]
  },
  {
   "cell_type": "code",
   "execution_count": 150,
   "metadata": {},
   "outputs": [
    {
     "data": {
      "text/plain": [
       "{'Name': ['Karan', 'Karan1', 'Karan2', 'Karan3'],\n",
       " 'Age': [23, 24, 25, 26],\n",
       " 'Location': ['Delhi', 'Mumbai', 'Chennai', 'Pune']}"
      ]
     },
     "execution_count": 150,
     "metadata": {},
     "output_type": "execute_result"
    }
   ],
   "source": [
    "d1={\"Name\":[\"Karan\",\"Karan1\",\"Karan2\",\"Karan3\"],\"Age\":[23,24,25,26],\"Location\":[\"Delhi\",\"Mumbai\",\"Chennai\",\"Pune\"]}\n",
    "d1"
   ]
  },
  {
   "cell_type": "code",
   "execution_count": 151,
   "metadata": {},
   "outputs": [
    {
     "data": {
      "text/plain": [
       "{'Name': ['Karan', 'Karan1', 'Karan2', 'Karan3'],\n",
       " 'Location': ['Delhi', 'Mumbai', 'Chennai', 'Pune']}"
      ]
     },
     "execution_count": 151,
     "metadata": {},
     "output_type": "execute_result"
    }
   ],
   "source": [
    "#Deleting key in Dictionary but first again run the codes\n",
    "del d1[\"Age\"]\n",
    "d1"
   ]
  },
  {
   "cell_type": "code",
   "execution_count": 152,
   "metadata": {},
   "outputs": [
    {
     "data": {
      "text/plain": [
       "{'Name': ['Karan1', 'Karan2', 'Karan3'],\n",
       " 'Location': ['Delhi', 'Mumbai', 'Chennai', 'Pune']}"
      ]
     },
     "execution_count": 152,
     "metadata": {},
     "output_type": "execute_result"
    }
   ],
   "source": [
    "#Removing values in Key\n",
    "del d1[\"Name\"][0]\n",
    "d1\n",
    "#Type the Output in chat box"
   ]
  },
  {
   "cell_type": "code",
   "execution_count": null,
   "metadata": {},
   "outputs": [],
   "source": [
    "d1"
   ]
  },
  {
   "cell_type": "markdown",
   "metadata": {},
   "source": [
    "# Input"
   ]
  },
  {
   "cell_type": "code",
   "execution_count": 157,
   "metadata": {},
   "outputs": [
    {
     "name": "stdout",
     "output_type": "stream",
     "text": [
      "What's your name Karan\n",
      "What's your age 12345\n",
      "\n",
      "\n",
      "Hi! Karan Welcome and your age is  12345\n"
     ]
    }
   ],
   "source": [
    "name=input(\"What's your name \")\n",
    "age=int(input(\"What's your age \"))\n",
    "\n",
    "print(\"\\n\")\n",
    "print(\"Hi!\",name,\"Welcome and your age is \",age)"
   ]
  },
  {
   "cell_type": "code",
   "execution_count": 158,
   "metadata": {},
   "outputs": [
    {
     "name": "stdout",
     "output_type": "stream",
     "text": [
      "What's your name Karan\n",
      "WHat's your age 1234\n",
      "What's your salary 1234\n",
      "\n",
      "\n",
      "Hi!, your name is  Karan \n",
      " Your age is 1234 \n",
      " Your salary is 1234 \n",
      " Thank you and Nice to meet you\n"
     ]
    }
   ],
   "source": [
    "name=input(\"What's your name \")\n",
    "age=int(input(\"WHat's your age \"))\n",
    "salary=int(input(\"What's your salary \"))\n",
    "print(\"\\n\")\n",
    "print(\"Hi!, your name is \",name,\"\\n\",\"Your age is\",age,\"\\n\",\"Your salary is\",salary,\"\\n\",\"Thank you\",\"and Nice to meet you\")\n",
    "\n",
    "#Name, Age, Salary, Location, Address, Phone Number, Account Number(10 Digit), AAdharCard(), State."
   ]
  },
  {
   "cell_type": "code",
   "execution_count": 163,
   "metadata": {},
   "outputs": [
    {
     "ename": "ValueError",
     "evalue": "invalid literal for int() with base 10: 'Karan'",
     "output_type": "error",
     "traceback": [
      "\u001b[1;31m---------------------------------------------------------------------------\u001b[0m",
      "\u001b[1;31mValueError\u001b[0m                                Traceback (most recent call last)",
      "\u001b[1;32m<ipython-input-163-801b8d070cf4>\u001b[0m in \u001b[0;36m<module>\u001b[1;34m\u001b[0m\n\u001b[0;32m      1\u001b[0m \u001b[0mint\u001b[0m\u001b[1;33m(\u001b[0m\u001b[0mstr\u001b[0m\u001b[1;33m(\u001b[0m\u001b[1;36m18\u001b[0m\u001b[1;33m)\u001b[0m\u001b[1;33m)\u001b[0m\u001b[1;33m\u001b[0m\u001b[1;33m\u001b[0m\u001b[0m\n\u001b[1;32m----> 2\u001b[1;33m \u001b[0mint\u001b[0m\u001b[1;33m(\u001b[0m\u001b[1;34m\"Karan\"\u001b[0m\u001b[1;33m)\u001b[0m\u001b[1;33m\u001b[0m\u001b[1;33m\u001b[0m\u001b[0m\n\u001b[0m",
      "\u001b[1;31mValueError\u001b[0m: invalid literal for int() with base 10: 'Karan'"
     ]
    }
   ],
   "source": [
    "int(str(18))\n",
    "int(\"Karan\")"
   ]
  },
  {
   "cell_type": "code",
   "execution_count": 164,
   "metadata": {},
   "outputs": [
    {
     "data": {
      "text/plain": [
       "18"
      ]
     },
     "execution_count": 164,
     "metadata": {},
     "output_type": "execute_result"
    }
   ],
   "source": [
    "#list\n",
    "list1=[23,45,56,78,90,32,54,76,89,0,21,12,101,151,134,3,4,5]\n",
    "#sort()\n",
    "#sorted()"
   ]
  },
  {
   "cell_type": "code",
   "execution_count": 171,
   "metadata": {},
   "outputs": [
    {
     "data": {
      "text/plain": [
       "[0, 3, 4, 5, 12, 21, 23, 32, 45, 54, 56, 76, 78, 89, 90, 101, 134, 151]"
      ]
     },
     "execution_count": 171,
     "metadata": {},
     "output_type": "execute_result"
    }
   ],
   "source": [
    "list1.sort(reverse=False)\n",
    "list1"
   ]
  },
  {
   "cell_type": "code",
   "execution_count": 169,
   "metadata": {},
   "outputs": [
    {
     "data": {
      "text/plain": [
       "[151, 134, 101, 90, 89, 78, 76, 56, 54, 45, 32, 23, 21, 12, 5, 4, 3, 0]"
      ]
     },
     "execution_count": 169,
     "metadata": {},
     "output_type": "execute_result"
    }
   ],
   "source": [
    "sorted(list1,reverse=True)"
   ]
  },
  {
   "cell_type": "code",
   "execution_count": null,
   "metadata": {},
   "outputs": [],
   "source": [
    "list1"
   ]
  },
  {
   "cell_type": "markdown",
   "metadata": {},
   "source": [
    "### Booleans"
   ]
  },
  {
   "cell_type": "code",
   "execution_count": null,
   "metadata": {},
   "outputs": [],
   "source": [
    "True"
   ]
  },
  {
   "cell_type": "code",
   "execution_count": null,
   "metadata": {},
   "outputs": [],
   "source": [
    "False"
   ]
  },
  {
   "cell_type": "markdown",
   "metadata": {},
   "source": [
    "### Tuples \n",
    "\n",
    "1. ( )\n",
    "2. tuple()"
   ]
  },
  {
   "cell_type": "code",
   "execution_count": 178,
   "metadata": {},
   "outputs": [],
   "source": [
    "t = (1,2,3,\"Hi\",[1,2,3,4])"
   ]
  },
  {
   "cell_type": "code",
   "execution_count": 179,
   "metadata": {},
   "outputs": [
    {
     "data": {
      "text/plain": [
       "(1, 2, 3, 'Hi', [1, 2, 3, 4])"
      ]
     },
     "execution_count": 179,
     "metadata": {},
     "output_type": "execute_result"
    }
   ],
   "source": [
    "t"
   ]
  },
  {
   "cell_type": "code",
   "execution_count": 183,
   "metadata": {},
   "outputs": [
    {
     "ename": "TypeError",
     "evalue": "'tuple' object does not support item assignment",
     "output_type": "error",
     "traceback": [
      "\u001b[1;31m---------------------------------------------------------------------------\u001b[0m",
      "\u001b[1;31mTypeError\u001b[0m                                 Traceback (most recent call last)",
      "\u001b[1;32m<ipython-input-183-918c8dc1f843>\u001b[0m in \u001b[0;36m<module>\u001b[1;34m\u001b[0m\n\u001b[0;32m      1\u001b[0m \u001b[0mtype\u001b[0m\u001b[1;33m(\u001b[0m\u001b[0mt\u001b[0m\u001b[1;33m)\u001b[0m\u001b[1;33m\u001b[0m\u001b[1;33m\u001b[0m\u001b[0m\n\u001b[1;32m----> 2\u001b[1;33m \u001b[0mt\u001b[0m\u001b[1;33m[\u001b[0m\u001b[1;36m0\u001b[0m\u001b[1;33m]\u001b[0m\u001b[1;33m=\u001b[0m\u001b[1;36m444\u001b[0m\u001b[1;33m\u001b[0m\u001b[1;33m\u001b[0m\u001b[0m\n\u001b[0m\u001b[0;32m      3\u001b[0m \u001b[0mt\u001b[0m\u001b[1;33m\u001b[0m\u001b[1;33m\u001b[0m\u001b[0m\n",
      "\u001b[1;31mTypeError\u001b[0m: 'tuple' object does not support item assignment"
     ]
    }
   ],
   "source": [
    "type(t)\n",
    "t[0]=444\n",
    "t"
   ]
  },
  {
   "cell_type": "code",
   "execution_count": null,
   "metadata": {},
   "outputs": [],
   "source": [
    "t\n",
    "tuple()\n",
    "list()\n",
    "set()\n",
    "dict()"
   ]
  },
  {
   "cell_type": "code",
   "execution_count": 173,
   "metadata": {},
   "outputs": [
    {
     "data": {
      "text/plain": [
       "[1, 2, 3, 'Hi', [1, 2, 3, 4]]"
      ]
     },
     "execution_count": 173,
     "metadata": {},
     "output_type": "execute_result"
    }
   ],
   "source": [
    "list1=list(t)\n",
    "list1"
   ]
  },
  {
   "cell_type": "code",
   "execution_count": 177,
   "metadata": {},
   "outputs": [
    {
     "data": {
      "text/plain": [
       "tuple"
      ]
     },
     "execution_count": 177,
     "metadata": {},
     "output_type": "execute_result"
    }
   ],
   "source": [
    "#From Hi to Bye\n",
    "#list1[3]=\"Bye\"\n",
    "tuple(list1)\n",
    "#Index Position Number"
   ]
  },
  {
   "cell_type": "code",
   "execution_count": null,
   "metadata": {},
   "outputs": [],
   "source": [
    "list1[4][2]=\"Good\"\n",
    "print(list1)"
   ]
  },
  {
   "cell_type": "code",
   "execution_count": null,
   "metadata": {},
   "outputs": [],
   "source": [
    "#Nested Tuple\n",
    "nested_tup=(4,5,6,(7,8))\n",
    "nested_tup\n",
    "#try the slicing exercise with nested tuples"
   ]
  },
  {
   "cell_type": "code",
   "execution_count": null,
   "metadata": {},
   "outputs": [],
   "source": [
    "nested_tup[3][1]"
   ]
  },
  {
   "cell_type": "code",
   "execution_count": null,
   "metadata": {},
   "outputs": [],
   "source": [
    "#Converting any string or sequence into the tuple\n",
    "tup=tuple([1,2,3,4,5])\n",
    "print(tup)\n",
    "tup1=tuple(\"Good Morning\")\n",
    "tup1\n",
    "#Tuples are immutable they cannot be changed.\n",
    "#Minor Exercise - Try to append any element in existing tuple oject.\n",
    "#Delete/Remove\n",
    "#Replace"
   ]
  },
  {
   "cell_type": "code",
   "execution_count": null,
   "metadata": {},
   "outputs": [],
   "source": [
    "#Trying to replace an element\n",
    "#tup[0] = 'NEW'\n"
   ]
  },
  {
   "cell_type": "code",
   "execution_count": null,
   "metadata": {},
   "outputs": [],
   "source": [
    "t=tuple(\"Good Morning\")\n",
    "t=t+(\" \",\"L\",\"O\",\"L\")\n",
    "t"
   ]
  },
  {
   "cell_type": "markdown",
   "metadata": {},
   "source": [
    "### Sets"
   ]
  },
  {
   "cell_type": "code",
   "execution_count": 184,
   "metadata": {},
   "outputs": [
    {
     "name": "stdout",
     "output_type": "stream",
     "text": [
      "{1, 2, 3, 4, 5, 6, 7, 8, 9}\n",
      "\n",
      "[1, 2, 3, 1, 9, 9, 9, 2, 2, 1, 2, 3, 3, 3, 3, 2, 2, 2, 1, 1, 2, 4, 5, 5, 5, 5, 5, 6, 6, 7, 8, 6]\n"
     ]
    }
   ],
   "source": [
    "x={1,2,3,1,9,9,9,2,2,1,2,3,3,3,3,2,2,2,1,1,2,4,5,5,5,5,5,6,6,7,8,6}\n",
    "x1=[1,2,3,1,9,9,9,2,2,1,2,3,3,3,3,2,2,2,1,1,2,4,5,5,5,5,5,6,6,7,8,6]\n",
    "print(x)\n",
    "\n",
    "print()\n",
    "\n",
    "print(x1)\n"
   ]
  },
  {
   "cell_type": "code",
   "execution_count": null,
   "metadata": {},
   "outputs": [],
   "source": [
    "s1={1,2,3,4}\n",
    "s1.pop()\n",
    "print(s1)"
   ]
  },
  {
   "cell_type": "code",
   "execution_count": null,
   "metadata": {},
   "outputs": [],
   "source": [
    "#Uniquely identified the elements\n",
    "print({1,2,3,1,2,1,2,3,3,3,3,2,2,2,1,1,2,4,5,5,5,5,5,6,6,7,8,6})\n",
    "[1,2,3,1,2,1,2,3,3,3,3,2,2,2,1,1,2,4,5,5,5,5,5,6,6,7,8,6]\n",
    "\n",
    "#                          Minor Exercise\n",
    "#appending\n",
    "#object slicing\n",
    "#removing any element\n",
    "#replacing with one element and multiple elements"
   ]
  },
  {
   "cell_type": "code",
   "execution_count": null,
   "metadata": {},
   "outputs": [],
   "source": [
    "#Adding new Element into Sets\n",
    "#x.add((24,34))\n",
    "#x\n",
    "#Replacing of Sets\n",
    "s = {1,2,4,43,25,4}\n",
    "s.update([99,100,101])\n",
    "print(s)"
   ]
  },
  {
   "cell_type": "code",
   "execution_count": null,
   "metadata": {},
   "outputs": [],
   "source": [
    "x1={(1, 2, 3), -7, 1, 2, 3, 4, 5, 6, 7, 8}\n",
    "x1\n",
    "x2=[1,2,3,\"Hello\",(\"Hi\",23,45,67)]\n",
    "x2"
   ]
  },
  {
   "cell_type": "markdown",
   "metadata": {},
   "source": [
    "## Comparison Operators"
   ]
  },
  {
   "cell_type": "code",
   "execution_count": null,
   "metadata": {},
   "outputs": [],
   "source": [
    "#Smaller than\n",
    "1 < 2"
   ]
  },
  {
   "cell_type": "code",
   "execution_count": null,
   "metadata": {},
   "outputs": [],
   "source": [
    "#Greater than\n",
    "199.99 > 200"
   ]
  },
  {
   "cell_type": "code",
   "execution_count": null,
   "metadata": {},
   "outputs": [],
   "source": [
    "#Greater than equals to\n",
    "4 >= 1"
   ]
  },
  {
   "cell_type": "code",
   "execution_count": null,
   "metadata": {},
   "outputs": [],
   "source": [
    "#Smaller than Equals to\n",
    "3 <= 3"
   ]
  },
  {
   "cell_type": "code",
   "execution_count": null,
   "metadata": {},
   "outputs": [],
   "source": [
    "# Equals to\n",
    "1 == 1.1"
   ]
  },
  {
   "cell_type": "code",
   "execution_count": null,
   "metadata": {},
   "outputs": [],
   "source": [
    "#Not Equals to\n",
    "1 != 12"
   ]
  },
  {
   "cell_type": "code",
   "execution_count": null,
   "metadata": {},
   "outputs": [],
   "source": [
    "#Equals to\n",
    "'Hello' == 'hello'"
   ]
  },
  {
   "cell_type": "markdown",
   "metadata": {},
   "source": [
    "## Logic Operators"
   ]
  },
  {
   "cell_type": "code",
   "execution_count": null,
   "metadata": {},
   "outputs": [],
   "source": [
    "(1 < 2) and (2 > 3) #and"
   ]
  },
  {
   "cell_type": "code",
   "execution_count": null,
   "metadata": {},
   "outputs": [],
   "source": [
    "(1 < 2) & (2 < 3) #and"
   ]
  },
  {
   "cell_type": "code",
   "execution_count": null,
   "metadata": {},
   "outputs": [],
   "source": [
    "(1 > 2) | (2 < 3)  #or"
   ]
  },
  {
   "cell_type": "code",
   "execution_count": null,
   "metadata": {},
   "outputs": [],
   "source": [
    "(1 == 2) | (3 == 3) | (4 == 4)\n"
   ]
  },
  {
   "cell_type": "code",
   "execution_count": null,
   "metadata": {},
   "outputs": [],
   "source": [
    "(1 == 2) & (3 == 3) & (4 == 4)"
   ]
  },
  {
   "cell_type": "code",
   "execution_count": null,
   "metadata": {},
   "outputs": [],
   "source": [
    "3==4"
   ]
  },
  {
   "cell_type": "code",
   "execution_count": null,
   "metadata": {},
   "outputs": [],
   "source": [
    "if 4==5:\n",
    "    print(\"Correct Answer\")\n",
    "else:\n",
    "    print(\"Wrong Answer\")"
   ]
  },
  {
   "cell_type": "markdown",
   "metadata": {},
   "source": [
    "## if,elif, else Statements"
   ]
  },
  {
   "cell_type": "code",
   "execution_count": null,
   "metadata": {},
   "outputs": [],
   "source": [
    "#Try with as much different conditions as you can\n",
    "if 12 < 10:\n",
    "    print(\"Right Condition\")"
   ]
  },
  {
   "cell_type": "code",
   "execution_count": null,
   "metadata": {},
   "outputs": [],
   "source": [
    "if 1 < 2:\n",
    "    print('yep!')"
   ]
  },
  {
   "cell_type": "code",
   "execution_count": null,
   "metadata": {},
   "outputs": [],
   "source": [
    "if 10 > 8:\n",
    "    print('Right Condition')\n",
    "else:\n",
    "    print(\"Wrong Condition\")"
   ]
  },
  {
   "cell_type": "code",
   "execution_count": null,
   "metadata": {},
   "outputs": [],
   "source": [
    "if \"Hi\" == \"Hi\":\n",
    "    print('first')\n",
    "else:\n",
    "    print('last')"
   ]
  },
  {
   "cell_type": "code",
   "execution_count": null,
   "metadata": {},
   "outputs": [],
   "source": [
    "if 1 == 1:\n",
    "    print('first')\n",
    "elif 3 == 3:\n",
    "    print('second')\n",
    "elif 3==34:\n",
    "    print(\"Match Found on Second else if condition\")\n",
    "elif 4==45:\n",
    "    print(\"Finally Found!\")\n",
    "else:\n",
    "    print('Nothig Found')"
   ]
  },
  {
   "cell_type": "code",
   "execution_count": null,
   "metadata": {},
   "outputs": [],
   "source": [
    "if 1 == 1:\n",
    "    print('first')\n",
    "if 3 == 3:\n",
    "    print('second')\n",
    "if 3==33:\n",
    "    print(\"Match Found on Second else if condition\")\n",
    "if 4==4:\n",
    "    print(\"Finally Found!\")\n",
    "else:\n",
    "    print('Nothig Found')"
   ]
  },
  {
   "cell_type": "code",
   "execution_count": null,
   "metadata": {},
   "outputs": [],
   "source": [
    "var1=200\n",
    "\n",
    "if var1==100:\n",
    "    print(\"You got the Number\")\n",
    "else:\n",
    "    print(\"You haven't got the Number\")\n",
    "\n",
    "print()   \n",
    "\n",
    "var2=20\n",
    "if var2==20:\n",
    "    print(\"Now you got the Number\")\n",
    "else:\n",
    "    print(\"Sorry Didn't got the number\")"
   ]
  },
  {
   "cell_type": "code",
   "execution_count": null,
   "metadata": {},
   "outputs": [],
   "source": [
    "x=26\n",
    "print(\"Today's date is \" + str(x))\n",
    "print(\"Today's date is {}\".format(x))"
   ]
  },
  {
   "cell_type": "code",
   "execution_count": null,
   "metadata": {},
   "outputs": [],
   "source": [
    "var=int(input(\"Please provide a number \"))\n",
    "print()\n",
    "if var==200:\n",
    "    print(\" You got the number: \",var)\n",
    "elif var==150:\n",
    "    print(\"You have got the Number: \"+str(var))\n",
    "elif var==100:\n",
    "    print(\"You have got the Number: {}\".format(var))\n",
    "elif var==300:\n",
    "    print(f\"You have got the Number {var}\")\n",
    "else:\n",
    "    print(\"\\n\",\"Still haven't got the number\")"
   ]
  },
  {
   "cell_type": "markdown",
   "metadata": {},
   "source": [
    "## for Loops"
   ]
  },
  {
   "cell_type": "code",
   "execution_count": 18,
   "metadata": {},
   "outputs": [
    {
     "data": {
      "text/plain": [
       "[1, 2, 3, 4, 5, 6, 7, 8, 9, 10]"
      ]
     },
     "execution_count": 18,
     "metadata": {},
     "output_type": "execute_result"
    }
   ],
   "source": [
    "seq = [1,2,3,4,5,6,7,8,9,10]\n",
    "seq"
   ]
  },
  {
   "cell_type": "code",
   "execution_count": 22,
   "metadata": {},
   "outputs": [
    {
     "name": "stdout",
     "output_type": "stream",
     "text": [
      "1\n",
      "2\n",
      "3\n",
      "4\n",
      "5\n",
      "6\n",
      "7\n",
      "8\n",
      "9\n",
      "10\n"
     ]
    },
    {
     "data": {
      "text/plain": [
       "10"
      ]
     },
     "execution_count": 22,
     "metadata": {},
     "output_type": "execute_result"
    }
   ],
   "source": [
    "for star in seq:\n",
    "    print(star)\n",
    "    \n",
    "star"
   ]
  },
  {
   "cell_type": "code",
   "execution_count": 20,
   "metadata": {
    "scrolled": true
   },
   "outputs": [
    {
     "name": "stdout",
     "output_type": "stream",
     "text": [
      "G\n",
      "o\n",
      "o\n",
      "d\n",
      " \n",
      "M\n",
      "o\n",
      "r\n",
      "n\n",
      "i\n",
      "n\n",
      "g\n"
     ]
    },
    {
     "data": {
      "text/plain": [
       "[1, 2, 3, 4, 5, 6, 7, 8, 9, 10]"
      ]
     },
     "execution_count": 20,
     "metadata": {},
     "output_type": "execute_result"
    }
   ],
   "source": [
    "for fun in \"Good Morning\":\n",
    "    print(fun)\n",
    "fun\n",
    "\n",
    "seq"
   ]
  },
  {
   "cell_type": "code",
   "execution_count": 21,
   "metadata": {},
   "outputs": [
    {
     "name": "stdout",
     "output_type": "stream",
     "text": [
      "Yep\n",
      "Yep\n",
      "Yep\n",
      "Yep\n",
      "Yep\n",
      "Yep\n",
      "Yep\n",
      "Yep\n",
      "Yep\n",
      "Yep\n"
     ]
    }
   ],
   "source": [
    "for item in seq:\n",
    "    print('Yep')"
   ]
  },
  {
   "cell_type": "code",
   "execution_count": 26,
   "metadata": {
    "scrolled": true
   },
   "outputs": [
    {
     "name": "stdout",
     "output_type": "stream",
     "text": [
      "1. Iteration- 10/1\n",
      "10.0\n",
      "\n",
      "2. Iteration- 10/2\n",
      "5.0\n",
      "\n",
      "3. Iteration- 10/3\n",
      "3.3333333333333335\n",
      "\n",
      "4. Iteration- 10/4\n",
      "2.5\n",
      "\n",
      "5. Iteration- 10/5\n",
      "2.0\n",
      "\n",
      "6. Iteration- 10/6\n",
      "1.6666666666666667\n",
      "\n",
      "7. Iteration- 10/7\n",
      "1.4285714285714286\n",
      "\n",
      "8. Iteration- 10/8\n",
      "1.25\n",
      "\n",
      "9. Iteration- 10/9\n",
      "1.1111111111111112\n",
      "\n",
      "10. Iteration- 10/10\n",
      "1.0\n",
      "\n"
     ]
    }
   ],
   "source": [
    "#Indentation\n",
    "for jelly in seq:\n",
    "    print(\"{}. Iteration- 10/{}\".format(jelly,jelly))\n",
    "    print(star/jelly)\n",
    "    print()"
   ]
  },
  {
   "cell_type": "code",
   "execution_count": 27,
   "metadata": {},
   "outputs": [
    {
     "name": "stdout",
     "output_type": "stream",
     "text": [
      "10\n",
      "10\n",
      "10\n",
      "10\n",
      "10\n",
      "10\n",
      "10\n",
      "10\n",
      "10\n",
      "10\n"
     ]
    }
   ],
   "source": [
    "for sun in seq:\n",
    "    print(item)"
   ]
  },
  {
   "cell_type": "code",
   "execution_count": 28,
   "metadata": {},
   "outputs": [
    {
     "name": "stdout",
     "output_type": "stream",
     "text": [
      "1*1=1 \n",
      "\n",
      "2*2=4 \n",
      "\n",
      "5*5=25 \n",
      "\n",
      "6*6=36 \n",
      "\n",
      "7*7=49 \n",
      "\n",
      "8*8=64 \n",
      "\n",
      "25*25=625 \n",
      "\n"
     ]
    }
   ],
   "source": [
    "num=[1,2,5,6,7,8,25]\n",
    "\n",
    "sq=[]\n",
    "\n",
    "for i in num:\n",
    "    z=i*i\n",
    "    print(\"{}*{}={}\".format(i,i,z),\"\\n\")\n",
    "    sq.append(z)"
   ]
  },
  {
   "cell_type": "code",
   "execution_count": 29,
   "metadata": {},
   "outputs": [
    {
     "data": {
      "text/plain": [
       "[1, 4, 25, 36, 49, 64, 625]"
      ]
     },
     "execution_count": 29,
     "metadata": {},
     "output_type": "execute_result"
    }
   ],
   "source": [
    "sq"
   ]
  },
  {
   "cell_type": "markdown",
   "metadata": {},
   "source": [
    "## while Loops"
   ]
  },
  {
   "cell_type": "code",
   "execution_count": 55,
   "metadata": {},
   "outputs": [
    {
     "name": "stdout",
     "output_type": "stream",
     "text": [
      "1\n",
      "2\n",
      "3\n",
      "4\n",
      "5\n",
      "6\n",
      "7\n",
      "8\n",
      "9\n",
      "10\n"
     ]
    }
   ],
   "source": [
    "i = 0\n",
    "while i < 10:\n",
    "    #print(f'i is: {i}') #Latest\n",
    "    #print(\"i is:\",i)\n",
    "    #print(\"i is: {}\".format(i)) #Traditional \n",
    "    #print(\"i is: \"+str(i))\n",
    "    i = i+1\n",
    "    print(i)"
   ]
  },
  {
   "cell_type": "markdown",
   "metadata": {},
   "source": [
    "## list comprehension"
   ]
  },
  {
   "cell_type": "code",
   "execution_count": 64,
   "metadata": {},
   "outputs": [
    {
     "name": "stdout",
     "output_type": "stream",
     "text": [
      "[0, 2, 4, 6, 8, 10, 12, 14, 16, 18]\n",
      "\n",
      "\n",
      "[0, 2, 4, 6, 8, 10, 12, 14, 16, 18]\n"
     ]
    }
   ],
   "source": [
    "#Simple List Comprehension\n",
    "x=[i+i for i in range(10)]\n",
    "print(x)\n",
    "#print([i+i for i in range(10)])\n",
    "\n",
    "print(\"\\n\")\n",
    "\n",
    "y=[]\n",
    "for i in range(10):\n",
    "    y.append(i+i)\n",
    "print(y)"
   ]
  },
  {
   "cell_type": "code",
   "execution_count": 65,
   "metadata": {},
   "outputs": [
    {
     "name": "stdout",
     "output_type": "stream",
     "text": [
      "[0, 1, 4, 9, 16, 25, 36, 49, 64, 81]\n",
      "\n",
      "\n",
      "[0, 1, 4, 9, 16, 25, 36, 49, 64, 81]\n"
     ]
    }
   ],
   "source": [
    "#For Loops vs List Comprehension\n",
    "sq=[]\n",
    "for x in range(10):\n",
    "    sq.append(x**2)\n",
    "print(sq)\n",
    "\n",
    "print(\"\\n\")\n",
    "\n",
    "#List Comprehensions\n",
    "squares=[x**2 for x in range(10)]\n",
    "print(squares)"
   ]
  },
  {
   "cell_type": "code",
   "execution_count": 66,
   "metadata": {},
   "outputs": [
    {
     "name": "stdout",
     "output_type": "stream",
     "text": [
      "[2, 3, 4, 5, 6, 7, 8, 9, 10, 11]\n",
      "\n",
      "\n",
      "[2, 3, 4, 5, 6, 7, 8, 9, 10, 11]\n"
     ]
    }
   ],
   "source": [
    "#For Loops\n",
    "sq=[]\n",
    "for x in range(10):\n",
    "    sq.append(x+2)\n",
    "print(sq)\n",
    "\n",
    "print(\"\\n\")\n",
    "\n",
    "#List Comprehensions\n",
    "squares=[x+2 for x in range(10)]\n",
    "print(squares)"
   ]
  },
  {
   "cell_type": "code",
   "execution_count": null,
   "metadata": {},
   "outputs": [],
   "source": [
    "list1=[6,7,8,7,5,1,9]\n",
    "multiple=[item*(item/3) for item in list1]\n",
    "print(multiple)\n",
    "\n",
    "#Execute the code with For Loops as well by using append function.\n",
    "\n",
    "sq=[]\n",
    "for i in list1:\n",
    "    sq.append(i*(i/3))\n",
    "print(sq)\n",
    "    "
   ]
  },
  {
   "cell_type": "code",
   "execution_count": 69,
   "metadata": {},
   "outputs": [
    {
     "name": "stdout",
     "output_type": "stream",
     "text": [
      "['d', 'd', 's', 't', 't', 'l', 'h'] Accessing every 4th Elemnet\n",
      "\n",
      "['o', 'a', 'o', 'e', 'e', 'e', 'y'] Accessing every 2nd Element\n"
     ]
    }
   ],
   "source": [
    "#Minor Exercise\n",
    "#Show the output of every 3rd letter from each word\n",
    "\n",
    "word=[\"Good\",\"Baddest\",\"Worse\",\"Best\",\"Better\",\"Hello\",\"Python\"]\n",
    "\n",
    "sq=[]\n",
    "for i in word:\n",
    "    sq.append(i[3])\n",
    "print(sq,\"Accessing every 4th Elemnet\")\n",
    "\n",
    "print()\n",
    "\n",
    "fish=[i[1] for i in word]\n",
    "print(fish,\"Accessing every 2nd Element\")"
   ]
  },
  {
   "cell_type": "code",
   "execution_count": 70,
   "metadata": {},
   "outputs": [
    {
     "name": "stdout",
     "output_type": "stream",
     "text": [
      "o\n",
      "d\n",
      "r\n",
      "s\n",
      "t\n",
      "l\n",
      "t\n"
     ]
    }
   ],
   "source": [
    "for i in word:\n",
    "    print(i[2])"
   ]
  },
  {
   "cell_type": "code",
   "execution_count": 72,
   "metadata": {
    "scrolled": false
   },
   "outputs": [
    {
     "name": "stdout",
     "output_type": "stream",
     "text": [
      "['h', 'u', 'm', 'a', 'n']\n"
     ]
    }
   ],
   "source": [
    "gun=[]\n",
    "\n",
    "for i in \"human\":\n",
    "    gun.append(i)\n",
    "print(gun)"
   ]
  },
  {
   "cell_type": "code",
   "execution_count": null,
   "metadata": {
    "scrolled": true
   },
   "outputs": [],
   "source": [
    "gunn=[i for i in \"human\"]\n",
    "print(gunn)"
   ]
  },
  {
   "cell_type": "markdown",
   "metadata": {},
   "source": [
    "## functions"
   ]
  },
  {
   "cell_type": "code",
   "execution_count": 73,
   "metadata": {},
   "outputs": [],
   "source": [
    "#Basic Function\n",
    "\n",
    "def fun_session(x):\n",
    "    return min(x)/max(x)"
   ]
  },
  {
   "cell_type": "code",
   "execution_count": 76,
   "metadata": {},
   "outputs": [
    {
     "data": {
      "text/plain": [
       "0.0449438202247191"
      ]
     },
     "execution_count": 76,
     "metadata": {},
     "output_type": "execute_result"
    }
   ],
   "source": [
    "4/89"
   ]
  },
  {
   "cell_type": "code",
   "execution_count": 74,
   "metadata": {},
   "outputs": [
    {
     "data": {
      "text/plain": [
       "0.0449438202247191"
      ]
     },
     "execution_count": 74,
     "metadata": {},
     "output_type": "execute_result"
    }
   ],
   "source": [
    "kite=[5,6,7,8,9,4,10,14,15,18,21,77,89]\n",
    "fun_session(kite)"
   ]
  },
  {
   "cell_type": "code",
   "execution_count": null,
   "metadata": {},
   "outputs": [],
   "source": [
    "def multiplication(x,y):\n",
    "    mult=x*y\n",
    "    return mult;\n",
    "\n",
    "multiplication(10,2)"
   ]
  },
  {
   "cell_type": "code",
   "execution_count": 77,
   "metadata": {},
   "outputs": [
    {
     "data": {
      "text/plain": [
       "12"
      ]
     },
     "execution_count": 77,
     "metadata": {},
     "output_type": "execute_result"
    }
   ],
   "source": [
    "def add(x,y):\n",
    "    return x+y\n",
    "\n",
    "add(10,2)"
   ]
  },
  {
   "cell_type": "code",
   "execution_count": 78,
   "metadata": {},
   "outputs": [
    {
     "name": "stdout",
     "output_type": "stream",
     "text": [
      "68.0 Fahrenheit\n"
     ]
    }
   ],
   "source": [
    "def celcius_to_fahre(x):\n",
    "    fah=((x*1.8)+32)\n",
    "    print(fah,\"Fahrenheit\")\n",
    "\n",
    "celcius_to_fahre(20)\n",
    "\n",
    "#Exercise1 Convert Fahrenheit to Celcius\n",
    "#Exercise2 Convert Kilometer per liter to Miles per gallon\n",
    "#Exercise3 Convert KM/h to meter/second"
   ]
  },
  {
   "cell_type": "code",
   "execution_count": 88,
   "metadata": {},
   "outputs": [
    {
     "name": "stdout",
     "output_type": "stream",
     "text": [
      "input the number one: 10\n",
      "input the number one :20\n",
      "The sum is 30\n"
     ]
    }
   ],
   "source": [
    "def add_num(a,b):#function for addition\n",
    "    add=a+b;\n",
    "    return add; #return value\n",
    "num1=int(input(\"input the number one: \"))#input from user for num1\n",
    "num2=int(input(\"input the number one :\"))#input from user for num2\n",
    "\n",
    "print(\"The sum is\",add_num(num1,num2))#call te function"
   ]
  },
  {
   "cell_type": "code",
   "execution_count": 89,
   "metadata": {},
   "outputs": [],
   "source": [
    "def call(name,age,gender):\n",
    "    print(\"hello my name is\",name,\"i am \",int(age),\"year old and my gender is\",gender)"
   ]
  },
  {
   "cell_type": "code",
   "execution_count": 92,
   "metadata": {},
   "outputs": [
    {
     "name": "stdout",
     "output_type": "stream",
     "text": [
      "hello my name is Karan i am  22 year old and my gender is Gender\n",
      "hello my name is Gender i am  23 year old and my gender is Karan\n",
      "hello my name is Karan i am  123 year old and my gender is Male\n"
     ]
    }
   ],
   "source": [
    "call(\"Karan\",22,\"Gender\")\n",
    "call(\"Gender\",23,\"Karan\")\n",
    "call(\"Karan\",123,\"Male\")"
   ]
  },
  {
   "cell_type": "code",
   "execution_count": 93,
   "metadata": {},
   "outputs": [],
   "source": [
    "def str_convert(x):\n",
    "    return str(x)"
   ]
  },
  {
   "cell_type": "code",
   "execution_count": 96,
   "metadata": {},
   "outputs": [
    {
     "data": {
      "text/plain": [
       "'Karan'"
      ]
     },
     "execution_count": 96,
     "metadata": {},
     "output_type": "execute_result"
    }
   ],
   "source": [
    "str_convert(\"Karan\")"
   ]
  },
  {
   "cell_type": "code",
   "execution_count": null,
   "metadata": {},
   "outputs": [],
   "source": [
    "def square(x):\n",
    "    return x**3"
   ]
  },
  {
   "cell_type": "code",
   "execution_count": null,
   "metadata": {},
   "outputs": [],
   "source": [
    "square(6)"
   ]
  },
  {
   "cell_type": "markdown",
   "metadata": {},
   "source": [
    "## methods"
   ]
  },
  {
   "cell_type": "code",
   "execution_count": null,
   "metadata": {},
   "outputs": [],
   "source": [
    "st = 'Hello my Name is Sam'\n",
    "st"
   ]
  },
  {
   "cell_type": "code",
   "execution_count": null,
   "metadata": {},
   "outputs": [],
   "source": [
    "st.lower()"
   ]
  },
  {
   "cell_type": "code",
   "execution_count": null,
   "metadata": {},
   "outputs": [],
   "source": [
    "st.upper()"
   ]
  },
  {
   "cell_type": "code",
   "execution_count": null,
   "metadata": {},
   "outputs": [],
   "source": [
    "x=st.split()\n",
    "x"
   ]
  },
  {
   "cell_type": "code",
   "execution_count": 111,
   "metadata": {},
   "outputs": [
    {
     "data": {
      "text/plain": [
       "['Hello', \"can't\", 'wait', 'to', 'go', 'to', 'the', 'amusement', 'park']"
      ]
     },
     "execution_count": 111,
     "metadata": {},
     "output_type": "execute_result"
    }
   ],
   "source": [
    "mes2=\"I can't wait  to go to the amusement park\"\n",
    "#print(mes2.split(\"go\"),\"\\n\")\n",
    "print(mes2.split())"
   ]
  },
  {
   "cell_type": "code",
   "execution_count": null,
   "metadata": {},
   "outputs": [],
   "source": [
    "#Exercise\n",
    "ss=\"my age is 20\"\n",
    "ss1=ss.split()\n",
    "print(ss1)\n",
    "ss1[1].upper()"
   ]
  },
  {
   "cell_type": "code",
   "execution_count": null,
   "metadata": {},
   "outputs": [],
   "source": [
    "print(ss1)\n",
    "ss1[0].upper()"
   ]
  },
  {
   "cell_type": "code",
   "execution_count": null,
   "metadata": {},
   "outputs": [],
   "source": [
    "tweet = 'Go Sports! #Sports'\n",
    "print(tweet.split(\"#\"))\n",
    "print(tweet.split(\"!\"))\n",
    "print(tweet.split(\"!\")[0])\n",
    "print(tweet.split(\"!\")[1])"
   ]
  },
  {
   "cell_type": "code",
   "execution_count": 112,
   "metadata": {},
   "outputs": [],
   "source": [
    "tweet = 'Go Sports! #Sports'\n",
    "\n",
    "#please work on below exercise as well!\n",
    "\n",
    "\n",
    "#\"Good Morning! How's the Day! What time is it?\"          #Split the string on !\n",
    "#\"Welcome home buddy! I have got 200$ for shopping\"       #Split the string on ! and $ seperately\n",
    "#\"I can't wait to go to the amusement park\"               #Transform the strings in upper case."
   ]
  },
  {
   "cell_type": "code",
   "execution_count": null,
   "metadata": {},
   "outputs": [],
   "source": [
    "print(tweet.split())\n",
    "print(tweet.split(\"!\"))\n",
    "print(tweet.split(\"#\"))\n"
   ]
  },
  {
   "cell_type": "code",
   "execution_count": null,
   "metadata": {},
   "outputs": [],
   "source": [
    "x=\"Welcome home buddy! I have got 200$ for shopping\"\n",
    "print(x.split(\"!\"))\n",
    "x.split(\"$\")\n",
    "    "
   ]
  },
  {
   "cell_type": "code",
   "execution_count": null,
   "metadata": {},
   "outputs": [],
   "source": [
    "tweet.split('#')"
   ]
  },
  {
   "cell_type": "code",
   "execution_count": 120,
   "metadata": {},
   "outputs": [
    {
     "data": {
      "text/plain": [
       "['Go Sports', ' #Sports']"
      ]
     },
     "execution_count": 120,
     "metadata": {},
     "output_type": "execute_result"
    }
   ],
   "source": [
    "tweet\n",
    "tweet.split('!')"
   ]
  },
  {
   "cell_type": "code",
   "execution_count": 121,
   "metadata": {},
   "outputs": [
    {
     "data": {
      "text/plain": [
       "[56, 'Fish', 'Sun', 99, 7, 6, 'Rise', 5.55]"
      ]
     },
     "execution_count": 121,
     "metadata": {},
     "output_type": "execute_result"
    }
   ],
   "source": [
    "#Concatenation\n",
    "[56,\"Fish\",\"Sun\",99]+[7,6,\"Rise\",5.55]"
   ]
  },
  {
   "cell_type": "code",
   "execution_count": null,
   "metadata": {},
   "outputs": [],
   "source": [
    "#Sorting\n",
    "a=[7,4,9,3,1,10,43]\n",
    "a.sort()\n",
    "print(a)\n",
    "a.sort(reverse=True)\n",
    "a"
   ]
  },
  {
   "cell_type": "code",
   "execution_count": 122,
   "metadata": {},
   "outputs": [
    {
     "name": "stdout",
     "output_type": "stream",
     "text": [
      "How many records you want3\n",
      "NameKaran\n",
      "Age123\n",
      "Namekaran1\n",
      "Age123\n",
      "Namekaran2\n",
      "Age123\n",
      "['Karan', 123.0, 'karan1', 123.0, 'karan2', 123.0]\n"
     ]
    }
   ],
   "source": [
    "x=int(input(\"How many records you want\"))\n",
    "list1=[]\n",
    "for i in range(x):\n",
    "    name1=input(\"Name\")\n",
    "    age1=float(input(\"Age\"))\n",
    "    list1.extend([name1,age1])\n",
    "print(list1)"
   ]
  },
  {
   "cell_type": "markdown",
   "metadata": {},
   "source": [
    "# Great Job!"
   ]
  }
 ],
 "metadata": {
  "kernelspec": {
   "display_name": "Python 3",
   "language": "python",
   "name": "python3"
  },
  "language_info": {
   "codemirror_mode": {
    "name": "ipython",
    "version": 3
   },
   "file_extension": ".py",
   "mimetype": "text/x-python",
   "name": "python",
   "nbconvert_exporter": "python",
   "pygments_lexer": "ipython3",
   "version": "3.7.1"
  }
 },
 "nbformat": 4,
 "nbformat_minor": 1
}
