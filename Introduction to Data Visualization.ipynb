{
 "cells": [
  {
   "cell_type": "markdown",
   "metadata": {},
   "source": [
    "Matplotlib is the \"grandfather\" library of data visualization with Python. It was created by John Hunter. He created it to try to replicate MatLab's (another programming language) plotting capabilities in Python. So if you happen to be familiar with matlab, matplotlib will feel natural to you.\n",
    "\n",
    "It is an excellent 2D and 3D graphics library for generating scientific figures. \n",
    "\n",
    "Some of the major Pros of Matplotlib are:\n",
    "\n",
    "* Generally easy to get started for simple plots\n",
    "* Support for custom labels and texts\n",
    "* Great control of every element in a figure\n",
    "* High-quality output in many formats\n",
    "* Very customizable in general\n",
    "\n",
    "Matplotlib allows you to create reproducible figures programmatically. Let's learn how to use it! Before continuing this lecture, I encourage you just to explore the official Matplotlib web page: http://matplotlib.org/\n",
    "\n",
    "    \n",
    "## Importing"
   ]
  },
  {
   "cell_type": "code",
   "execution_count": 1,
   "metadata": {},
   "outputs": [],
   "source": [
    "import matplotlib.pyplot as plt\n",
    "import pandas as pd"
   ]
  },
  {
   "cell_type": "code",
   "execution_count": 5,
   "metadata": {},
   "outputs": [],
   "source": [
    "data = [['E001', 'M', 34, 123, 'Normal', 350],['E002', 'F', 40, 114, 'Overweight', 450], ['E003', 'F', 37, 135, 'Obesity', 169],\n",
    "        ['E004', 'M', 30, 139, 'Underweight', 189],['E005', 'F', 44, 117, 'Underweight', 183], ['E006', 'M', 36, 121, 'Normal', 80],\n",
    "        ['E007', 'M', 32, 133, 'Obesity', 166],['E008', 'F', 26, 140, 'Normal', 120],['E009', 'M', 32, 133, 'Normal', 75],\n",
    "        ['E010', 'M', 36, 133, 'Underweight', 40]]\n",
    "\n",
    "df = pd.DataFrame(data, columns = ['EMPID', 'Gender','Age', 'Sales', 'BMI', 'Income'])"
   ]
  },
  {
   "cell_type": "code",
   "execution_count": 11,
   "metadata": {},
   "outputs": [
    {
     "data": {
      "text/html": [
       "<div>\n",
       "<style scoped>\n",
       "    .dataframe tbody tr th:only-of-type {\n",
       "        vertical-align: middle;\n",
       "    }\n",
       "\n",
       "    .dataframe tbody tr th {\n",
       "        vertical-align: top;\n",
       "    }\n",
       "\n",
       "    .dataframe thead th {\n",
       "        text-align: right;\n",
       "    }\n",
       "</style>\n",
       "<table border=\"1\" class=\"dataframe\">\n",
       "  <thead>\n",
       "    <tr style=\"text-align: right;\">\n",
       "      <th></th>\n",
       "      <th>EMPID</th>\n",
       "      <th>Gender</th>\n",
       "      <th>Age</th>\n",
       "      <th>Sales</th>\n",
       "      <th>BMI</th>\n",
       "      <th>Income</th>\n",
       "    </tr>\n",
       "  </thead>\n",
       "  <tbody>\n",
       "    <tr>\n",
       "      <th>0</th>\n",
       "      <td>E001</td>\n",
       "      <td>M</td>\n",
       "      <td>34</td>\n",
       "      <td>123</td>\n",
       "      <td>Normal</td>\n",
       "      <td>350</td>\n",
       "    </tr>\n",
       "    <tr>\n",
       "      <th>1</th>\n",
       "      <td>E002</td>\n",
       "      <td>F</td>\n",
       "      <td>40</td>\n",
       "      <td>114</td>\n",
       "      <td>Overweight</td>\n",
       "      <td>450</td>\n",
       "    </tr>\n",
       "    <tr>\n",
       "      <th>2</th>\n",
       "      <td>E003</td>\n",
       "      <td>F</td>\n",
       "      <td>37</td>\n",
       "      <td>135</td>\n",
       "      <td>Obesity</td>\n",
       "      <td>169</td>\n",
       "    </tr>\n",
       "    <tr>\n",
       "      <th>3</th>\n",
       "      <td>E004</td>\n",
       "      <td>M</td>\n",
       "      <td>30</td>\n",
       "      <td>139</td>\n",
       "      <td>Underweight</td>\n",
       "      <td>189</td>\n",
       "    </tr>\n",
       "    <tr>\n",
       "      <th>4</th>\n",
       "      <td>E005</td>\n",
       "      <td>F</td>\n",
       "      <td>44</td>\n",
       "      <td>117</td>\n",
       "      <td>Underweight</td>\n",
       "      <td>183</td>\n",
       "    </tr>\n",
       "    <tr>\n",
       "      <th>5</th>\n",
       "      <td>E006</td>\n",
       "      <td>M</td>\n",
       "      <td>36</td>\n",
       "      <td>121</td>\n",
       "      <td>Normal</td>\n",
       "      <td>80</td>\n",
       "    </tr>\n",
       "    <tr>\n",
       "      <th>6</th>\n",
       "      <td>E007</td>\n",
       "      <td>M</td>\n",
       "      <td>32</td>\n",
       "      <td>133</td>\n",
       "      <td>Obesity</td>\n",
       "      <td>166</td>\n",
       "    </tr>\n",
       "    <tr>\n",
       "      <th>7</th>\n",
       "      <td>E008</td>\n",
       "      <td>F</td>\n",
       "      <td>26</td>\n",
       "      <td>140</td>\n",
       "      <td>Normal</td>\n",
       "      <td>120</td>\n",
       "    </tr>\n",
       "    <tr>\n",
       "      <th>8</th>\n",
       "      <td>E009</td>\n",
       "      <td>M</td>\n",
       "      <td>32</td>\n",
       "      <td>133</td>\n",
       "      <td>Normal</td>\n",
       "      <td>75</td>\n",
       "    </tr>\n",
       "    <tr>\n",
       "      <th>9</th>\n",
       "      <td>E010</td>\n",
       "      <td>M</td>\n",
       "      <td>36</td>\n",
       "      <td>133</td>\n",
       "      <td>Underweight</td>\n",
       "      <td>40</td>\n",
       "    </tr>\n",
       "  </tbody>\n",
       "</table>\n",
       "</div>"
      ],
      "text/plain": [
       "  EMPID Gender  Age  Sales          BMI  Income\n",
       "0  E001      M   34    123       Normal     350\n",
       "1  E002      F   40    114   Overweight     450\n",
       "2  E003      F   37    135      Obesity     169\n",
       "3  E004      M   30    139  Underweight     189\n",
       "4  E005      F   44    117  Underweight     183\n",
       "5  E006      M   36    121       Normal      80\n",
       "6  E007      M   32    133      Obesity     166\n",
       "7  E008      F   26    140       Normal     120\n",
       "8  E009      M   32    133       Normal      75\n",
       "9  E010      M   36    133  Underweight      40"
      ]
     },
     "execution_count": 11,
     "metadata": {},
     "output_type": "execute_result"
    }
   ],
   "source": [
    "df"
   ]
  },
  {
   "cell_type": "code",
   "execution_count": 27,
   "metadata": {},
   "outputs": [
    {
     "data": {
      "image/png": "[encoded data removed]",
      "text/plain": [
       "<Figure size 432x288 with 1 Axes>"
      ]
     },
     "metadata": {
      "needs_background": "light"
     },
     "output_type": "display_data"
    }
   ],
   "source": [
    "df.plot.bar(\"Gender\",[\"Income\",\"Age\"])\n",
    "plt.xlabel(\"Employee ID\")\n",
    "plt.ylabel(\"Income and Age\")\n",
    "plt.show()"
   ]
  },
  {
   "cell_type": "code",
   "execution_count": 9,
   "metadata": {
    "scrolled": true
   },
   "outputs": [
    {
     "data": {
      "image/png": "[encoded data removed]",
      "text/plain": [
       "<Figure size 432x288 with 1 Axes>"
      ]
     },
     "metadata": {
      "needs_background": "light"
     },
     "output_type": "display_data"
    }
   ],
   "source": [
    "plt.boxplot(df[\"Income\"]);"
   ]
  },
  {
   "cell_type": "code",
   "execution_count": 2,
   "metadata": {},
   "outputs": [
    {
     "data": {
      "text/html": [
       "<div>\n",
       "<style scoped>\n",
       "    .dataframe tbody tr th:only-of-type {\n",
       "        vertical-align: middle;\n",
       "    }\n",
       "\n",
       "    .dataframe tbody tr th {\n",
       "        vertical-align: top;\n",
       "    }\n",
       "\n",
       "    .dataframe thead th {\n",
       "        text-align: right;\n",
       "    }\n",
       "</style>\n",
       "<table border=\"1\" class=\"dataframe\">\n",
       "  <thead>\n",
       "    <tr style=\"text-align: right;\">\n",
       "      <th></th>\n",
       "      <th>sl_no</th>\n",
       "      <th>gender</th>\n",
       "      <th>ssc_p</th>\n",
       "      <th>ssc_b</th>\n",
       "      <th>hsc_p</th>\n",
       "      <th>hsc_b</th>\n",
       "      <th>hsc_s</th>\n",
       "      <th>degree_p</th>\n",
       "      <th>degree_t</th>\n",
       "      <th>workex</th>\n",
       "      <th>etest_p</th>\n",
       "      <th>specialisation</th>\n",
       "      <th>mba_p</th>\n",
       "      <th>status</th>\n",
       "      <th>salary</th>\n",
       "    </tr>\n",
       "  </thead>\n",
       "  <tbody>\n",
       "    <tr>\n",
       "      <th>0</th>\n",
       "      <td>1</td>\n",
       "      <td>M</td>\n",
       "      <td>67.00</td>\n",
       "      <td>Others</td>\n",
       "      <td>91.00</td>\n",
       "      <td>Others</td>\n",
       "      <td>Commerce</td>\n",
       "      <td>58.00</td>\n",
       "      <td>Sci&amp;Tech</td>\n",
       "      <td>No</td>\n",
       "      <td>55.0</td>\n",
       "      <td>Mkt&amp;HR</td>\n",
       "      <td>58.80</td>\n",
       "      <td>Placed</td>\n",
       "      <td>270000.0</td>\n",
       "    </tr>\n",
       "    <tr>\n",
       "      <th>1</th>\n",
       "      <td>2</td>\n",
       "      <td>M</td>\n",
       "      <td>79.33</td>\n",
       "      <td>Central</td>\n",
       "      <td>78.33</td>\n",
       "      <td>Others</td>\n",
       "      <td>Science</td>\n",
       "      <td>77.48</td>\n",
       "      <td>Sci&amp;Tech</td>\n",
       "      <td>Yes</td>\n",
       "      <td>86.5</td>\n",
       "      <td>Mkt&amp;Fin</td>\n",
       "      <td>66.28</td>\n",
       "      <td>Placed</td>\n",
       "      <td>200000.0</td>\n",
       "    </tr>\n",
       "    <tr>\n",
       "      <th>2</th>\n",
       "      <td>3</td>\n",
       "      <td>M</td>\n",
       "      <td>65.00</td>\n",
       "      <td>Central</td>\n",
       "      <td>68.00</td>\n",
       "      <td>Central</td>\n",
       "      <td>Arts</td>\n",
       "      <td>64.00</td>\n",
       "      <td>Comm&amp;Mgmt</td>\n",
       "      <td>No</td>\n",
       "      <td>75.0</td>\n",
       "      <td>Mkt&amp;Fin</td>\n",
       "      <td>57.80</td>\n",
       "      <td>Placed</td>\n",
       "      <td>250000.0</td>\n",
       "    </tr>\n",
       "    <tr>\n",
       "      <th>3</th>\n",
       "      <td>4</td>\n",
       "      <td>M</td>\n",
       "      <td>56.00</td>\n",
       "      <td>Central</td>\n",
       "      <td>52.00</td>\n",
       "      <td>Central</td>\n",
       "      <td>Science</td>\n",
       "      <td>52.00</td>\n",
       "      <td>Sci&amp;Tech</td>\n",
       "      <td>No</td>\n",
       "      <td>66.0</td>\n",
       "      <td>Mkt&amp;HR</td>\n",
       "      <td>59.43</td>\n",
       "      <td>Not Placed</td>\n",
       "      <td>NaN</td>\n",
       "    </tr>\n",
       "    <tr>\n",
       "      <th>4</th>\n",
       "      <td>5</td>\n",
       "      <td>M</td>\n",
       "      <td>85.80</td>\n",
       "      <td>Central</td>\n",
       "      <td>73.60</td>\n",
       "      <td>Central</td>\n",
       "      <td>Commerce</td>\n",
       "      <td>73.30</td>\n",
       "      <td>Comm&amp;Mgmt</td>\n",
       "      <td>No</td>\n",
       "      <td>96.8</td>\n",
       "      <td>Mkt&amp;Fin</td>\n",
       "      <td>55.50</td>\n",
       "      <td>Placed</td>\n",
       "      <td>425000.0</td>\n",
       "    </tr>\n",
       "  </tbody>\n",
       "</table>\n",
       "</div>"
      ],
      "text/plain": [
       "   sl_no gender  ssc_p    ssc_b  hsc_p    hsc_b     hsc_s  degree_p  \\\n",
       "0      1      M  67.00   Others  91.00   Others  Commerce     58.00   \n",
       "1      2      M  79.33  Central  78.33   Others   Science     77.48   \n",
       "2      3      M  65.00  Central  68.00  Central      Arts     64.00   \n",
       "3      4      M  56.00  Central  52.00  Central   Science     52.00   \n",
       "4      5      M  85.80  Central  73.60  Central  Commerce     73.30   \n",
       "\n",
       "    degree_t workex  etest_p specialisation  mba_p      status    salary  \n",
       "0   Sci&Tech     No     55.0         Mkt&HR  58.80      Placed  270000.0  \n",
       "1   Sci&Tech    Yes     86.5        Mkt&Fin  66.28      Placed  200000.0  \n",
       "2  Comm&Mgmt     No     75.0        Mkt&Fin  57.80      Placed  250000.0  \n",
       "3   Sci&Tech     No     66.0         Mkt&HR  59.43  Not Placed       NaN  \n",
       "4  Comm&Mgmt     No     96.8        Mkt&Fin  55.50      Placed  425000.0  "
      ]
     },
     "execution_count": 2,
     "metadata": {},
     "output_type": "execute_result"
    }
   ],
   "source": [
    "pla=pd.read_csv(\"C:\\\\Users\\\\admin\\\\Desktop\\\\Data\\\\Placement_Data.csv\")\n",
    "pla.head()"
   ]
  },
  {
   "cell_type": "code",
   "execution_count": 3,
   "metadata": {},
   "outputs": [],
   "source": [
    "pla[\"salary\"].fillna(pla[\"salary\"].median(),inplace=True)"
   ]
  },
  {
   "cell_type": "code",
   "execution_count": 5,
   "metadata": {},
   "outputs": [
    {
     "data": {
      "text/plain": [
       "sl_no             0\n",
       "gender            0\n",
       "ssc_p             0\n",
       "ssc_b             0\n",
       "hsc_p             0\n",
       "hsc_b             0\n",
       "hsc_s             0\n",
       "degree_p          0\n",
       "degree_t          0\n",
       "workex            0\n",
       "etest_p           0\n",
       "specialisation    0\n",
       "mba_p             0\n",
       "status            0\n",
       "salary            0\n",
       "dtype: int64"
      ]
     },
     "execution_count": 5,
     "metadata": {},
     "output_type": "execute_result"
    }
   ],
   "source": [
    "pla.isnull().sum()"
   ]
  },
  {
   "cell_type": "markdown",
   "metadata": {},
   "source": [
    "## Bar PLot"
   ]
  },
  {
   "cell_type": "code",
   "execution_count": 34,
   "metadata": {
    "scrolled": true
   },
   "outputs": [
    {
     "data": {
      "image/png": "[encoded data removed]",
      "text/plain": [
       "<Figure size 432x288 with 1 Axes>"
      ]
     },
     "metadata": {
      "needs_background": "light"
     },
     "output_type": "display_data"
    }
   ],
   "source": [
    "plt.bar(pla[\"gender\"],pla[\"salary\"],align=\"center\")\n",
    "plt.xlabel(\"Genderrrrrrrr\")\n",
    "plt.ylabel(\"Candidates Salary\")\n",
    "plt.show()"
   ]
  },
  {
   "cell_type": "code",
   "execution_count": 38,
   "metadata": {},
   "outputs": [
    {
     "data": {
      "text/plain": [
       "200000.0"
      ]
     },
     "execution_count": 38,
     "metadata": {},
     "output_type": "execute_result"
    }
   ],
   "source": [
    "pla[pla[\"gender\"]==\"M\"][\"salary\"].max()\n",
    "pla[pla[\"gender\"]==\"M\"][\"salary\"].min()\n",
    "pla[pla[\"gender\"]==\"F\"][\"salary\"].max()\n",
    "pla[pla[\"gender\"]==\"F\"][\"salary\"].min()"
   ]
  },
  {
   "cell_type": "code",
   "execution_count": 17,
   "metadata": {},
   "outputs": [
    {
     "data": {
      "text/html": [
       "<div>\n",
       "<style scoped>\n",
       "    .dataframe tbody tr th:only-of-type {\n",
       "        vertical-align: middle;\n",
       "    }\n",
       "\n",
       "    .dataframe tbody tr th {\n",
       "        vertical-align: top;\n",
       "    }\n",
       "\n",
       "    .dataframe thead th {\n",
       "        text-align: right;\n",
       "    }\n",
       "</style>\n",
       "<table border=\"1\" class=\"dataframe\">\n",
       "  <thead>\n",
       "    <tr style=\"text-align: right;\">\n",
       "      <th></th>\n",
       "      <th>EMPID</th>\n",
       "      <th>Gender</th>\n",
       "      <th>Age</th>\n",
       "      <th>Sales</th>\n",
       "      <th>BMI</th>\n",
       "      <th>Income</th>\n",
       "    </tr>\n",
       "  </thead>\n",
       "  <tbody>\n",
       "    <tr>\n",
       "      <th>0</th>\n",
       "      <td>E001</td>\n",
       "      <td>M</td>\n",
       "      <td>34</td>\n",
       "      <td>123</td>\n",
       "      <td>Normal</td>\n",
       "      <td>350</td>\n",
       "    </tr>\n",
       "    <tr>\n",
       "      <th>1</th>\n",
       "      <td>E002</td>\n",
       "      <td>F</td>\n",
       "      <td>40</td>\n",
       "      <td>114</td>\n",
       "      <td>Overweight</td>\n",
       "      <td>450</td>\n",
       "    </tr>\n",
       "    <tr>\n",
       "      <th>2</th>\n",
       "      <td>E003</td>\n",
       "      <td>F</td>\n",
       "      <td>37</td>\n",
       "      <td>135</td>\n",
       "      <td>Obesity</td>\n",
       "      <td>169</td>\n",
       "    </tr>\n",
       "    <tr>\n",
       "      <th>3</th>\n",
       "      <td>E004</td>\n",
       "      <td>M</td>\n",
       "      <td>30</td>\n",
       "      <td>139</td>\n",
       "      <td>Underweight</td>\n",
       "      <td>189</td>\n",
       "    </tr>\n",
       "    <tr>\n",
       "      <th>4</th>\n",
       "      <td>E005</td>\n",
       "      <td>F</td>\n",
       "      <td>44</td>\n",
       "      <td>117</td>\n",
       "      <td>Underweight</td>\n",
       "      <td>183</td>\n",
       "    </tr>\n",
       "    <tr>\n",
       "      <th>5</th>\n",
       "      <td>E006</td>\n",
       "      <td>M</td>\n",
       "      <td>36</td>\n",
       "      <td>121</td>\n",
       "      <td>Normal</td>\n",
       "      <td>80</td>\n",
       "    </tr>\n",
       "    <tr>\n",
       "      <th>6</th>\n",
       "      <td>E007</td>\n",
       "      <td>M</td>\n",
       "      <td>32</td>\n",
       "      <td>133</td>\n",
       "      <td>Obesity</td>\n",
       "      <td>166</td>\n",
       "    </tr>\n",
       "    <tr>\n",
       "      <th>7</th>\n",
       "      <td>E008</td>\n",
       "      <td>F</td>\n",
       "      <td>26</td>\n",
       "      <td>140</td>\n",
       "      <td>Normal</td>\n",
       "      <td>120</td>\n",
       "    </tr>\n",
       "    <tr>\n",
       "      <th>8</th>\n",
       "      <td>E009</td>\n",
       "      <td>M</td>\n",
       "      <td>32</td>\n",
       "      <td>133</td>\n",
       "      <td>Normal</td>\n",
       "      <td>75</td>\n",
       "    </tr>\n",
       "    <tr>\n",
       "      <th>9</th>\n",
       "      <td>E010</td>\n",
       "      <td>M</td>\n",
       "      <td>36</td>\n",
       "      <td>133</td>\n",
       "      <td>Underweight</td>\n",
       "      <td>40</td>\n",
       "    </tr>\n",
       "  </tbody>\n",
       "</table>\n",
       "</div>"
      ],
      "text/plain": [
       "  EMPID Gender  Age  Sales          BMI  Income\n",
       "0  E001      M   34    123       Normal     350\n",
       "1  E002      F   40    114   Overweight     450\n",
       "2  E003      F   37    135      Obesity     169\n",
       "3  E004      M   30    139  Underweight     189\n",
       "4  E005      F   44    117  Underweight     183\n",
       "5  E006      M   36    121       Normal      80\n",
       "6  E007      M   32    133      Obesity     166\n",
       "7  E008      F   26    140       Normal     120\n",
       "8  E009      M   32    133       Normal      75\n",
       "9  E010      M   36    133  Underweight      40"
      ]
     },
     "execution_count": 17,
     "metadata": {},
     "output_type": "execute_result"
    }
   ],
   "source": [
    "data=[['E001','M',34,123,'Normal',350],\n",
    "     ['E002','F',40,114,'Overweight',450],\n",
    "      ['E003','F',37,135,'Obesity',169],\n",
    "      ['E004','M',30,139,'Underweight',189],\n",
    "      ['E005','F',44,117,'Underweight',183],\n",
    "      ['E006','M',36,121,'Normal',80],\n",
    "      ['E007','M',32,133,'Obesity',166],\n",
    "      ['E008','F',26,140,'Normal',120],\n",
    "      ['E009','M',32,133,'Normal',75],\n",
    "      ['E010','M',36,133,'Underweight',40]]\n",
    "df=pd.DataFrame(data,columns=[\"EMPID\",\"Gender\",\"Age\",\"Sales\",\"BMI\",\"Income\"])\n",
    "df"
   ]
  },
  {
   "cell_type": "code",
   "execution_count": 11,
   "metadata": {},
   "outputs": [
    {
     "data": {
      "image/png": "[encoded data removed]",
      "text/plain": [
       "<Figure size 432x288 with 1 Axes>"
      ]
     },
     "metadata": {
      "needs_background": "light"
     },
     "output_type": "display_data"
    }
   ],
   "source": [
    "df.plot.bar()\n",
    "plt.show()"
   ]
  },
  {
   "cell_type": "code",
   "execution_count": 18,
   "metadata": {},
   "outputs": [
    {
     "data": {
      "image/png": "[encoded data removed]",
      "text/plain": [
       "<Figure size 432x288 with 1 Axes>"
      ]
     },
     "metadata": {
      "needs_background": "light"
     },
     "output_type": "display_data"
    }
   ],
   "source": [
    "plt.bar(df[\"BMI\"],df[\"Age\"])\n",
    "plt.xlabel(\"BMI of Candidates\")\n",
    "plt.ylabel(\"Age of Candidates\")\n",
    "plt.show()"
   ]
  },
  {
   "cell_type": "markdown",
   "metadata": {},
   "source": [
    "## Hist plot"
   ]
  },
  {
   "cell_type": "code",
   "execution_count": 19,
   "metadata": {},
   "outputs": [
    {
     "data": {
      "image/png": "[encoded data removed]",
      "text/plain": [
       "<Figure size 432x288 with 4 Axes>"
      ]
     },
     "metadata": {
      "needs_background": "light"
     },
     "output_type": "display_data"
    }
   ],
   "source": [
    "df.hist()\n",
    "plt.show()"
   ]
  },
  {
   "cell_type": "markdown",
   "metadata": {},
   "source": [
    "## Box Plot Chart"
   ]
  },
  {
   "cell_type": "code",
   "execution_count": 20,
   "metadata": {},
   "outputs": [
    {
     "data": {
      "image/png": "[encoded data removed]",
      "text/plain": [
       "<Figure size 432x288 with 1 Axes>"
      ]
     },
     "metadata": {
      "needs_background": "light"
     },
     "output_type": "display_data"
    }
   ],
   "source": [
    "df.plot.box()\n",
    "plt.show()"
   ]
  },
  {
   "cell_type": "code",
   "execution_count": null,
   "metadata": {},
   "outputs": [],
   "source": [
    "plt.boxplot(df[\"Sales\"],showmeans=True)\n",
    "plt.show()"
   ]
  },
  {
   "cell_type": "code",
   "execution_count": null,
   "metadata": {},
   "outputs": [],
   "source": [
    "plt.boxplot(df[\"Income\"],showmeans=True);"
   ]
  },
  {
   "cell_type": "code",
   "execution_count": null,
   "metadata": {},
   "outputs": [],
   "source": [
    "df"
   ]
  },
  {
   "cell_type": "markdown",
   "metadata": {},
   "source": [
    "## Pie Plot"
   ]
  },
  {
   "cell_type": "code",
   "execution_count": 39,
   "metadata": {},
   "outputs": [
    {
     "data": {
      "image/png": "[encoded data removed]",
      "text/plain": [
       "<Figure size 432x288 with 1 Axes>"
      ]
     },
     "metadata": {},
     "output_type": "display_data"
    }
   ],
   "source": [
    "plt.pie(df[\"Age\"],labels=[\"A\",\"B\",\"C\",\"D\",\"E\",\"F\",\"G\",\"H\",\"I\",\"J\"]);"
   ]
  },
  {
   "cell_type": "markdown",
   "metadata": {},
   "source": [
    "## Great Job!"
   ]
  }
 ],
 "metadata": {
  "kernelspec": {
   "display_name": "Python 3",
   "language": "python",
   "name": "python3"
  },
  "language_info": {
   "codemirror_mode": {
    "name": "ipython",
    "version": 3
   },
   "file_extension": ".py",
   "mimetype": "text/x-python",
   "name": "python",
   "nbconvert_exporter": "python",
   "pygments_lexer": "ipython3",
   "version": "3.7.1"
  }
 },
 "nbformat": 4,
 "nbformat_minor": 2
}
